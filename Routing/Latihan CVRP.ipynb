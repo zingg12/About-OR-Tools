{
 "cells": [
  {
   "cell_type": "code",
   "execution_count": 150,
   "id": "cf44223a",
   "metadata": {},
   "outputs": [],
   "source": [
    "from ortools.constraint_solver import routing_enums_pb2\n",
    "from ortools.constraint_solver import pywrapcp"
   ]
  },
  {
   "cell_type": "code",
   "execution_count": 121,
   "id": "86a0bf47",
   "metadata": {},
   "outputs": [],
   "source": [
    "def create_data_model():\n",
    "    data = {}\n",
    "    data['distance_matrix'] = [\n",
    "    [  0, 290, 250,  230,  190,  334, 365,   40], # Dhaka\n",
    "    [290,   0, 337,  453,  396,  560, 581,  244], # Syhlet\n",
    "    [250, 337,   0,  495,  396,  540, 120,  240], # Chittagonj\n",
    "    [230, 453, 495,    0,  360,  150, 595,  242], # Rajshahi\n",
    "    [190, 396, 396,  360,    0,  356, 496,  253], # Jossore\n",
    "    [334, 560, 540,  150,  356,    0, 674,  275], # Dinajpur\n",
    "    [365, 581, 120,  595,  496,  674,   0,  397], # Coxsbazar\n",
    "    [40,  244, 240,  242,  253,  275, 397,    0],# Narsingdi\n",
    "    ]\n",
    "    data['num_vehicles'] = 2\n",
    "    data['demands'] = [0, 1, 2, 4, 3, 4, 8, 8]\n",
    "    data['vehicle_capacities'] = [12, 18]\n",
    "    data['depot'] = 0\n",
    "    return data"
   ]
  },
  {
   "cell_type": "code",
   "execution_count": 122,
   "id": "7e27ff4e",
   "metadata": {},
   "outputs": [],
   "source": [
    "#create data model\n",
    "data = create_data_model()\n",
    "manager = pywrapcp.RoutingIndexManager(len(data['distance_matrix']), data['num_vehicles'], data['depot'])\n",
    "routing = pywrapcp.RoutingModel(manager)"
   ]
  },
  {
   "cell_type": "code",
   "execution_count": 123,
   "id": "d9603f47",
   "metadata": {},
   "outputs": [],
   "source": [
    "#create distance callback \n",
    "def distance_callback(from_index, to_index):\n",
    "    from_node = manager.IndexToNode(from_index)\n",
    "    to_node = manager.IndexToNode(to_index)\n",
    "    return data['distance_matrix'][from_node][to_node]\n",
    "#register callback\n",
    "transit_callback_index = routing.RegisterTransitCallback(distance_callback)"
   ]
  },
  {
   "cell_type": "code",
   "execution_count": 124,
   "id": "ab27912a",
   "metadata": {},
   "outputs": [],
   "source": [
    "#set cost travel\n",
    "routing.SetArcCostEvaluatorOfAllVehicles(transit_callback_index)"
   ]
  },
  {
   "cell_type": "code",
   "execution_count": 125,
   "id": "4e34bce1",
   "metadata": {},
   "outputs": [],
   "source": [
    "#create demand callback \n",
    "def demand_callback(from_index):\n",
    "    from_node = manager.IndexToNode(from_index)\n",
    "    return data['demands'][from_node]\n",
    "#register demand callback\n",
    "demand_callback_index = routing.RegisterUnaryTransitCallback(demand_callback)"
   ]
  },
  {
   "cell_type": "code",
   "execution_count": 126,
   "id": "70cb0c9d",
   "metadata": {},
   "outputs": [
    {
     "data": {
      "text/plain": [
       "True"
      ]
     },
     "execution_count": 126,
     "metadata": {},
     "output_type": "execute_result"
    }
   ],
   "source": [
    "routing.AddDimensionWithVehicleCapacity(\n",
    "demand_callback_index,\n",
    "0,  # null capacity slack\n",
    "data['vehicle_capacities'],  # vehicle maximum capacities\n",
    "True,  # start cumul to zero\n",
    "'Capacity')"
   ]
  },
  {
   "cell_type": "code",
   "execution_count": 127,
   "id": "d06b4a49",
   "metadata": {},
   "outputs": [],
   "source": [
    "#search parameters\n",
    "search_parameters = pywrapcp.DefaultRoutingSearchParameters()\n",
    "search_parameters.first_solution_strategy = (\n",
    "    routing_enums_pb2.FirstSolutionStrategy.PATH_CHEAPEST_ARC)\n",
    "search_parameters.local_search_metaheuristic = (\n",
    "    routing_enums_pb2.LocalSearchMetaheuristic.GUIDED_LOCAL_SEARCH)\n",
    "search_parameters.time_limit.FromSeconds(1)"
   ]
  },
  {
   "cell_type": "code",
   "execution_count": 128,
   "id": "9bb676cd",
   "metadata": {},
   "outputs": [],
   "source": [
    "#add print solution\n",
    "def print_solution(data, manager, routing, solution):\n",
    "    \"\"\"Prints solution on console.\"\"\"\n",
    "    print(f'Objective: {solution.ObjectiveValue()}')\n",
    "    total_distance = 0\n",
    "    total_load = 0\n",
    "    for vehicle_id in range(data['num_vehicles']):\n",
    "        index = routing.Start(vehicle_id)\n",
    "        plan_output = 'Route for vehicle {}:\\n'.format(vehicle_id)\n",
    "        route_distance = 0\n",
    "        route_load = 0\n",
    "        while not routing.IsEnd(index):\n",
    "            node_index = manager.IndexToNode(index)\n",
    "            route_load += data['demands'][node_index]\n",
    "            plan_output += ' {0} Load({1}) -> '.format(node_index, route_load)\n",
    "            previous_index = index\n",
    "            index = solution.Value(routing.NextVar(index))\n",
    "            route_distance += routing.GetArcCostForVehicle(\n",
    "                previous_index, index, vehicle_id)\n",
    "        plan_output += ' {0} Load({1})\\n'.format(manager.IndexToNode(index),\n",
    "                                                 route_load)\n",
    "        plan_output += 'Distance of the route: {}m\\n'.format(route_distance)\n",
    "        plan_output += 'Load of the route: {}\\n'.format(route_load)\n",
    "        print(plan_output)\n",
    "        total_distance += route_distance\n",
    "        total_load += route_load\n",
    "    print('Total distance of all routes: {}m'.format(total_distance))\n",
    "    print('Total load of all routes: {}'.format(total_load))"
   ]
  },
  {
   "cell_type": "code",
   "execution_count": 129,
   "id": "3353caff",
   "metadata": {},
   "outputs": [
    {
     "name": "stdout",
     "output_type": "stream",
     "text": [
      "Objective: 2187\n",
      "Route for vehicle 0:\n",
      " 0 Load(0) ->  1 Load(1) ->  4 Load(4) ->  5 Load(8) ->  3 Load(12) ->  0 Load(12)\n",
      "Distance of the route: 1422m\n",
      "Load of the route: 12\n",
      "\n",
      "Route for vehicle 1:\n",
      " 0 Load(0) ->  7 Load(8) ->  2 Load(10) ->  6 Load(18) ->  0 Load(18)\n",
      "Distance of the route: 765m\n",
      "Load of the route: 18\n",
      "\n",
      "Total distance of all routes: 2187m\n",
      "Total load of all routes: 30\n"
     ]
    }
   ],
   "source": [
    "#print solution\n",
    "solution = routing.SolveWithParameters(search_parameters)\n",
    "if solution : \n",
    "    print_solution(data, manager, routing, solution)"
   ]
  },
  {
   "cell_type": "markdown",
   "id": "f6da3b48",
   "metadata": {},
   "source": [
    "# ------------------------------------------------------------------"
   ]
  },
  {
   "cell_type": "markdown",
   "id": "da093473",
   "metadata": {},
   "source": [
    "Soal 1 (TSP) + Penalty"
   ]
  },
  {
   "cell_type": "code",
   "execution_count": 215,
   "id": "ae2420ea",
   "metadata": {},
   "outputs": [],
   "source": [
    "def create_data_model():\n",
    "    data = {}\n",
    "    data['distance_matrix'] = [\n",
    "        [0, 28, 20, 21, 14, 9],\n",
    "        [28, 0, 22, 6, 22, 20],\n",
    "        [20, 22, 0, 3, 17, 29],\n",
    "        [21, 6, 3, 0, 14, 22],\n",
    "        [14, 1, 17, 14, 0, 30],\n",
    "        [9, 20, 29, 22, 30, 0],\n",
    "    ]\n",
    "    data['num_vehicles'] = 4\n",
    "    data['vehicle_capacities'] = [3, 2, 5, 6] \n",
    "    data['demands'] = [0, 5, 5, 4, 3, 3]\n",
    "    data['depot'] = 0\n",
    "    return data"
   ]
  },
  {
   "cell_type": "code",
   "execution_count": 216,
   "id": "c184514c",
   "metadata": {},
   "outputs": [],
   "source": [
    "data = create_data_model()\n",
    "manager = pywrapcp.RoutingIndexManager(len(data['distance_matrix']), data['num_vehicles'], data['depot'])\n",
    "routing = pywrapcp.RoutingModel(manager)"
   ]
  },
  {
   "cell_type": "code",
   "execution_count": 217,
   "id": "1bb8b1cc",
   "metadata": {},
   "outputs": [],
   "source": [
    "#distance callback\n",
    "def distance_callback(from_index, to_index):\n",
    "    from_node = manager.IndexToNode(from_index)\n",
    "    to_node = manager.IndexToNode(to_index)\n",
    "    return data['distance_matrix'][from_node][to_node]\n",
    "transit_callback_index = routing.RegisterTransitCallback(distance_callback)"
   ]
  },
  {
   "cell_type": "code",
   "execution_count": 218,
   "id": "ef023842",
   "metadata": {},
   "outputs": [],
   "source": [
    "routing.SetArcCostEvaluatorOfAllVehicles(transit_callback_index)"
   ]
  },
  {
   "cell_type": "code",
   "execution_count": 219,
   "id": "d7192f28",
   "metadata": {},
   "outputs": [],
   "source": [
    "#demand callback\n",
    "def demands_callback(from_index):\n",
    "    from_node = manager.IndexToNode(from_index)\n",
    "    return data['demands'][from_node]\n",
    "demand_callback_index = routing.RegisterUnaryTransitCallback(demands_callback)"
   ]
  },
  {
   "cell_type": "code",
   "execution_count": 220,
   "id": "3925c2ea",
   "metadata": {},
   "outputs": [],
   "source": [
    "#demand dimension\n",
    "routing.AddDimensionWithVehicleCapacity(\n",
    "demand_callback_index,\n",
    "0,\n",
    "data['vehicle_capacities'],\n",
    "True,\n",
    "'Capacity')\n",
    "penalty = 100\n",
    "for node in range(1, len(data['distance_matrix'])):\n",
    "    routing.AddDisjunction([manager.NodeToIndex(node)], penalty)"
   ]
  },
  {
   "cell_type": "code",
   "execution_count": 221,
   "id": "1232c20e",
   "metadata": {},
   "outputs": [],
   "source": [
    "search_parameters = pywrapcp.DefaultRoutingSearchParameters()\n",
    "search_parameters.first_solution_strategy = (\n",
    "routing_enums_pb2.FirstSolutionStrategy.PATH_CHEAPEST_ARC)\n",
    "search_parameters.local_search_metaheuristic = (\n",
    "routing_enums_pb2.LocalSearchMetaheuristic.GUIDED_LOCAL_SEARCH)\n",
    "search_parameters.time_limit.FromSeconds(1)"
   ]
  },
  {
   "cell_type": "code",
   "execution_count": 222,
   "id": "dc95bef4",
   "metadata": {},
   "outputs": [],
   "source": [
    "#add print solution\n",
    "def print_solution(data, manager, routing, solution):\n",
    "    \"\"\"Prints solution on console.\"\"\"\n",
    "    print(f'Objective: {solution.ObjectiveValue()}')\n",
    "    total_distance = 0\n",
    "    total_load = 0\n",
    "    for vehicle_id in range(data['num_vehicles']):\n",
    "        index = routing.Start(vehicle_id)\n",
    "        plan_output = 'Route for vehicle {}:\\n'.format(vehicle_id)\n",
    "        route_distance = 0\n",
    "        route_load = 0\n",
    "        while not routing.IsEnd(index):\n",
    "            node_index = manager.IndexToNode(index)\n",
    "            route_load += data['demands'][node_index]\n",
    "            plan_output += ' {0} Load({1}) -> '.format(node_index, route_load)\n",
    "            previous_index = index\n",
    "            index = solution.Value(routing.NextVar(index))\n",
    "            route_distance += routing.GetArcCostForVehicle(\n",
    "                previous_index, index, vehicle_id)\n",
    "        plan_output += ' {0} Load({1})\\n'.format(manager.IndexToNode(index),\n",
    "                                                 route_load)\n",
    "        plan_output += 'Distance of the route: {}m\\n'.format(route_distance)\n",
    "        plan_output += 'Load of the route: {}\\n'.format(route_load)\n",
    "        print(plan_output)\n",
    "        total_distance += route_distance\n",
    "        total_load += route_load\n",
    "    print('Total distance of all routes: {}m'.format(total_distance))\n",
    "    print('Total load of all routes: {}'.format(total_load))"
   ]
  },
  {
   "cell_type": "code",
   "execution_count": 223,
   "id": "fbc64041",
   "metadata": {},
   "outputs": [
    {
     "name": "stdout",
     "output_type": "stream",
     "text": [
      "Objective: 286\n",
      "Route for vehicle 0:\n",
      " 0 Load(0) ->  5 Load(3) ->  0 Load(3)\n",
      "Distance of the route: 18m\n",
      "Load of the route: 3\n",
      "\n",
      "Route for vehicle 1:\n",
      " 0 Load(0) ->  0 Load(0)\n",
      "Distance of the route: 0m\n",
      "Load of the route: 0\n",
      "\n",
      "Route for vehicle 2:\n",
      " 0 Load(0) ->  2 Load(5) ->  0 Load(5)\n",
      "Distance of the route: 40m\n",
      "Load of the route: 5\n",
      "\n",
      "Route for vehicle 3:\n",
      " 0 Load(0) ->  4 Load(3) ->  0 Load(3)\n",
      "Distance of the route: 28m\n",
      "Load of the route: 3\n",
      "\n",
      "Total distance of all routes: 86m\n",
      "Total load of all routes: 11\n"
     ]
    }
   ],
   "source": [
    "solution = routing.SolveWithParameters(search_parameters)\n",
    "if solution : \n",
    "    print_solution(data,manager, routing, solution)"
   ]
  },
  {
   "cell_type": "markdown",
   "id": "0079858f",
   "metadata": {},
   "source": [
    "# -----------------------------------------------------------------"
   ]
  }
 ],
 "metadata": {
  "kernelspec": {
   "display_name": "Python 3 (ipykernel)",
   "language": "python",
   "name": "python3"
  },
  "language_info": {
   "codemirror_mode": {
    "name": "ipython",
    "version": 3
   },
   "file_extension": ".py",
   "mimetype": "text/x-python",
   "name": "python",
   "nbconvert_exporter": "python",
   "pygments_lexer": "ipython3",
   "version": "3.9.7"
  }
 },
 "nbformat": 4,
 "nbformat_minor": 5
}
