{
 "cells": [
  {
   "cell_type": "code",
   "execution_count": 3,
   "id": "a9b3abfc",
   "metadata": {},
   "outputs": [],
   "source": [
    "from ortools.constraint_solver import routing_enums_pb2\n",
    "from ortools.constraint_solver import pywrapcp"
   ]
  },
  {
   "cell_type": "markdown",
   "id": "60d70271",
   "metadata": {},
   "source": [
    "# Membuat Data Model\n"
   ]
  },
  {
   "cell_type": "code",
   "execution_count": 45,
   "id": "33ed73b7",
   "metadata": {},
   "outputs": [],
   "source": [
    "def create_data_model():\n",
    "    data = {}\n",
    "    data['distance_matrix'] = [\n",
    "         [0, 2451, 713, 1018, 1631, 1374, 2408, 213, 2571, 875, 1420, 2145, 1972],\n",
    "        [2451, 0, 1745, 1524, 831, 1240, 959, 2596, 403, 1589, 1374, 357, 579],\n",
    "        [713, 1745, 0, 355, 920, 803, 1737, 851, 1858, 262, 940, 1453, 1260],\n",
    "        [1018, 1524, 355, 0, 700, 862, 1395, 1123, 1584, 466, 1056, 1280, 987],\n",
    "        [1631, 831, 920, 700, 0, 663, 1021, 1769, 949, 796, 879, 586, 371],\n",
    "        [1374, 1240, 803, 862, 663, 0, 1681, 1551, 1765, 547, 225, 887, 999],\n",
    "        [2408, 959, 1737, 1395, 1021, 1681, 0, 2493, 678, 1724, 1891, 1114, 701],\n",
    "        [213, 2596, 851, 1123, 1769, 1551, 2493, 0, 2699, 1038, 1605, 2300, 2099],\n",
    "        [2571, 403, 1858, 1584, 949, 1765, 678, 2699, 0, 1744, 1645, 653, 600],\n",
    "        [875, 1589, 262, 466, 796, 547, 1724, 1038, 1744, 0, 679, 1272, 1162],\n",
    "        [1420, 1374, 940, 1056, 879, 225, 1891, 1605, 1645, 679, 0, 1017, 1200],\n",
    "        [2145, 357, 1453, 1280, 586, 887, 1114, 2300, 653, 1272, 1017, 0, 504],\n",
    "        [1972, 579, 1260, 987, 371, 999, 701, 2099, 600, 1162, 1200, 504, 0],\n",
    "    ]\n",
    "    data['num_vehicles'] = 1\n",
    "    data['depot'] = 0\n",
    "    return data"
   ]
  },
  {
   "cell_type": "markdown",
   "id": "a1b87a17",
   "metadata": {},
   "source": [
    "Finding Solution"
   ]
  },
  {
   "cell_type": "code",
   "execution_count": 46,
   "id": "a7ff2712",
   "metadata": {},
   "outputs": [],
   "source": [
    "#create data model\n",
    "data = create_data_model()\n",
    "manager = pywrapcp.RoutingIndexManager(len(data['distance_matrix']), data['num_vehicles'], data['depot'])\n",
    "routing = pywrapcp.RoutingModel(manager)"
   ]
  },
  {
   "cell_type": "code",
   "execution_count": 47,
   "id": "eb903eb6",
   "metadata": {},
   "outputs": [],
   "source": [
    "#create distace callback\n",
    "def distance_callback(from_index, to_index):\n",
    "    from_node = manager.IndexToNode(from_index)\n",
    "    to_node = manager.IndexToNode(to_index)\n",
    "    return data['distance_matrix'][from_node][to_node]\n",
    "transit_callback_index = routing.RegisterTransitCallback(distance_callback)"
   ]
  },
  {
   "cell_type": "code",
   "execution_count": 48,
   "id": "2085ff19",
   "metadata": {},
   "outputs": [],
   "source": [
    "#set cost travel\n",
    "routing.SetArcCostEvaluatorOfAllVehicles(transit_callback_index)"
   ]
  },
  {
   "cell_type": "code",
   "execution_count": 49,
   "id": "b0442f77",
   "metadata": {},
   "outputs": [],
   "source": [
    "#Set Paramater\n",
    "search_parameters = pywrapcp.DefaultRoutingSearchParameters()\n",
    "search_parameters.first_solution_strategy = (\n",
    "    routing_enums_pb2.FirstSolutionStrategy.PATH_CHEAPEST_ARC)"
   ]
  },
  {
   "cell_type": "code",
   "execution_count": 50,
   "id": "5cad551e",
   "metadata": {},
   "outputs": [],
   "source": [
    "#Add solution printer\n",
    "def print_solution(manager, routing, solution):\n",
    "    print('Objectives: {}meters'.format(solution.ObjectiveValue()))\n",
    "    index = routing.Start(0)\n",
    "    plan_output = 'Rute untuk mobil B 1237 NKW: \\n'\n",
    "    route_distance = 0 \n",
    "    while not routing.IsEnd(index):\n",
    "        plan_output += ' {}->'.format(manager.IndexToNode(index))\n",
    "        previous_index = index\n",
    "        index = solution.Value(routing.NextVar(index))\n",
    "        route_distance =+ routing.GetArcCostForVehicle(previous_index, index, 0)\n",
    "    plan_output += ' {}\\n'.format(manager.IndexToNode(index))\n",
    "    print(plan_output)\n",
    "    plan_output += 'Jarak Rute: {}meters\\n'.format(route_distance)"
   ]
  },
  {
   "cell_type": "code",
   "execution_count": 51,
   "id": "7231ae31",
   "metadata": {},
   "outputs": [
    {
     "name": "stdout",
     "output_type": "stream",
     "text": [
      "Objectives: 7293meters\n",
      "Rute untuk mobil B 1237 NKW: \n",
      " 0-> 7-> 2-> 3-> 4-> 12-> 6-> 8-> 1-> 11-> 10-> 5-> 9-> 0\n",
      "\n"
     ]
    }
   ],
   "source": [
    "solution = routing.SolveWithParameters(search_parameters)\n",
    "if solution:\n",
    "    print_solution(manager, routing, solution)"
   ]
  },
  {
   "cell_type": "markdown",
   "id": "fbbd5e97",
   "metadata": {},
   "source": [
    "# Save To Array"
   ]
  },
  {
   "cell_type": "code",
   "execution_count": 52,
   "id": "d358a88e",
   "metadata": {},
   "outputs": [],
   "source": [
    "def get_routes(solution, routing, manager):\n",
    "    routes = []\n",
    "    for route_nbr in range(routing.vehicles()):\n",
    "        index = routing.Start(route_nbr)\n",
    "        route = [manager.IndexToNode(index)]\n",
    "        while not routing.IsEnd(index):\n",
    "            index = solution.Value(routing.NextVar(index))\n",
    "            route.append(manager.IndexToNode(index))\n",
    "        routes.append(route)\n",
    "    return routes"
   ]
  },
  {
   "cell_type": "code",
   "execution_count": 53,
   "id": "cfc1c49d",
   "metadata": {},
   "outputs": [
    {
     "name": "stdout",
     "output_type": "stream",
     "text": [
      "Rute 0 [0, 7, 2, 3, 4, 12, 6, 8, 1, 11, 10, 5, 9, 0]\n",
      "0 adalah kode untuk kendaraan B 1237 NKW\n"
     ]
    }
   ],
   "source": [
    "routes = get_routes(solution, routing, manager)\n",
    "for i, route in enumerate(routes):\n",
    "    print('Rute', i, route)\n",
    "    print('0 adalah kode untuk kendaraan B 1237 NKW')"
   ]
  },
  {
   "cell_type": "markdown",
   "id": "84c1d8d3",
   "metadata": {},
   "source": [
    "# Euclidean Formula"
   ]
  },
  {
   "cell_type": "code",
   "execution_count": 54,
   "id": "420bd694",
   "metadata": {},
   "outputs": [],
   "source": [
    "def create_data_model_euclidean():\n",
    "    data = {}\n",
    "    data['locations'] = [\n",
    "        (288, 149), (288, 129), (270, 133), (256, 141), (256, 157), (246, 157),\n",
    "        (236, 169), (228, 169), (228, 161), (220, 169), (212, 169), (204, 169),\n",
    "        (196, 169), (188, 169), (196, 161), (188, 145), (172, 145), (164, 145),\n",
    "        (156, 145), (148, 145), (140, 145), (148, 169), (164, 169), (172, 169),\n",
    "        (156, 169), (140, 169), (132, 169), (124, 169), (116, 161), (104, 153),\n",
    "        (104, 161), (104, 169), (90, 165), (80, 157), (64, 157), (64, 165),\n",
    "        (56, 169), (56, 161), (56, 153), (56, 145), (56, 137), (56, 129),\n",
    "        (56, 121), (40, 121), (40, 129), (40, 137), (40, 145), (40, 153),\n",
    "        (40, 161), (40, 169), (32, 169), (32, 161), (32, 153), (32, 145),\n",
    "        (32, 137), (32, 129), (32, 121), (32, 113), (40, 113), (56, 113),\n",
    "        (56, 105), (48, 99), (40, 99), (32, 97), (32, 89), (24, 89),\n",
    "        (16, 97), (16, 109), (8, 109), (8, 97), (8, 89), (8, 81),\n",
    "        (8, 73), (8, 65), (8, 57), (16, 57), (8, 49), (8, 41),\n",
    "        (24, 45), (32, 41), (32, 49), (32, 57), (32, 65), (32, 73),\n",
    "        (32, 81), (40, 83), (40, 73), (40, 63), (40, 51), (44, 43),\n",
    "        (44, 35), (44, 27), (32, 25), (24, 25), (16, 25), (16, 17),\n",
    "        (24, 17), (32, 17), (44, 11), (56, 9), (56, 17), (56, 25),\n",
    "        (56, 33), (56, 41), (64, 41), (72, 41), (72, 49), (56, 49),\n",
    "        (48, 51), (56, 57), (56, 65), (48, 63), (48, 73), (56, 73),\n",
    "        (56, 81), (48, 83), (56, 89), (56, 97), (104, 97), (104, 105),\n",
    "        (104, 113), (104, 121), (104, 129), (104, 137), (104, 145), (116, 145),\n",
    "        (124, 145), (132, 145), (132, 137), (140, 137), (148, 137), (156, 137),\n",
    "        (164, 137), (172, 125), (172, 117), (172, 109), (172, 101), (172, 93),\n",
    "        (172, 85), (180, 85), (180, 77), (180, 69), (180, 61), (180, 53),\n",
    "        (172, 53), (172, 61), (172, 69), (172, 77), (164, 81), (148, 85),\n",
    "        (124, 85), (124, 93), (124, 109), (124, 125), (124, 117), (124, 101),\n",
    "        (104, 89), (104, 81), (104, 73), (104, 65), (104, 49), (104, 41),\n",
    "        (104, 33), (104, 25), (104, 17), (92, 9), (80, 9), (72, 9),\n",
    "        (64, 21), (72, 25), (80, 25), (80, 25), (80, 41), (88, 49),\n",
    "        (104, 57), (124, 69), (124, 77), (132, 81), (140, 65), (132, 61),\n",
    "        (124, 61), (124, 53), (124, 45), (124, 37), (124, 29), (132, 21),\n",
    "        (124, 21), (120, 9), (128, 9), (136, 9), (148, 9), (162, 9),\n",
    "        (156, 25), (172, 21), (180, 21), (180, 29), (172, 29), (172, 37),\n",
    "        (172, 45), (180, 45), (180, 37), (188, 41), (196, 49), (204, 57),\n",
    "        (212, 65), (220, 73), (228, 69), (228, 77), (236, 77), (236, 69),\n",
    "        (236, 61), (228, 61), (228, 53), (236, 53), (236, 45), (228, 45),\n",
    "        (228, 37), (236, 37), (236, 29), (228, 29), (228, 21), (236, 21),\n",
    "        (252, 21), (260, 29), (260, 37), (260, 45), (260, 53), (260, 61),\n",
    "        (260, 69), (260, 77), (276, 77), (276, 69), (276, 61), (276, 53),\n",
    "        (284, 53), (284, 61), (284, 69), (284, 77), (284, 85), (284, 93),\n",
    "        (284, 101), (288, 109), (280, 109), (276, 101), (276, 93), (276, 85),\n",
    "        (268, 97), (260, 109), (252, 101), (260, 93), (260, 85), (236, 85),\n",
    "        (228, 85), (228, 93), (236, 93), (236, 101), (228, 101), (228, 109),\n",
    "        (228, 117), (228, 125), (220, 125), (212, 117), (204, 109), (196, 101),\n",
    "        (188, 93), (180, 93), (180, 101), (180, 109), (180, 117), (180, 125),\n",
    "        (196, 145), (204, 145), (212, 145), (220, 145), (228, 145), (236, 145),\n",
    "        (246, 141), (252, 125), (260, 129), (280, 133)\n",
    "    ]\n",
    "    data['jumlah_kendaraan'] = 1\n",
    "    data['depot_euclidean'] = 0\n",
    "    return data"
   ]
  },
  {
   "cell_type": "code",
   "execution_count": 55,
   "id": "2bb6c9ab",
   "metadata": {},
   "outputs": [],
   "source": [
    "def compute_euclidean_distance_matrix(locations):\n",
    "    distances = {}\n",
    "    for from_counter, from_node in enumerate(locations):\n",
    "        distances[from_counter] = {}\n",
    "        for to_counter, to_node in enumerate(locations):\n",
    "            if from_counter == to_counter:\n",
    "                distances[from_counter][to_counter] = 0\n",
    "            else:\n",
    "                # Euclidean distance\n",
    "                distances[from_counter][to_counter] = (int(\n",
    "                    math.hypot((from_node[0] - to_node[0]),\n",
    "                               (from_node[1] - to_node[1]))))\n",
    "    return distances"
   ]
  },
  {
   "cell_type": "code",
   "execution_count": 57,
   "id": "fc8ce407",
   "metadata": {},
   "outputs": [],
   "source": [
    "#Create data Model\n",
    "data = create_data_model_euclidean()\n",
    "manager = pywrapcp.RoutingIndexManager(len(data['locations']), data['jumlah_kendaraan'], data['depot_euclidean'])\n",
    "routing = pywrapcp.RoutingModel(manager)"
   ]
  },
  {
   "cell_type": "code",
   "execution_count": 58,
   "id": "ceb394d6",
   "metadata": {},
   "outputs": [],
   "source": [
    "#create distance callback\n",
    "def distance_callback_eu(from_index, to_index):\n",
    "    from_node = IndexToNode(from_index)\n",
    "    to_node = IndexToNode(to_index)\n",
    "    return data['locations'][from_node][to_node]"
   ]
  },
  {
   "cell_type": "code",
   "execution_count": 59,
   "id": "b5001697",
   "metadata": {},
   "outputs": [],
   "source": [
    "#Register callback\n",
    "transit_callback_index = routing.RegisterTransitCallback(distance_callback_eu)"
   ]
  },
  {
   "cell_type": "code",
   "execution_count": 60,
   "id": "f3d5a81b",
   "metadata": {},
   "outputs": [],
   "source": [
    "#set cost travel\n",
    "routing.SetArcCostEvaluatorOfAllVehicles(transit_callback_index)"
   ]
  },
  {
   "cell_type": "code",
   "execution_count": 61,
   "id": "42ddb09c",
   "metadata": {},
   "outputs": [],
   "source": [
    "#search parameters\n",
    "# search_parameters = pywrapcp.DefaultRoutingSearchParameters()\n",
    "# search_parameters.first_solution_strategy = (\n",
    "#     routing_enums_pb2.FirstSolutionStrategy.PATH_CHEAPEST_ARC)\n",
    "search_parameters_eu = pywrapcp.DefaultRoutingSearchParameters()\n",
    "search_parameters_eu.first_solution_strategy = (\n",
    "    routing_enums_pb2.FirstSolutionStrategy.PATH_CHEAPEST_ARC)"
   ]
  },
  {
   "cell_type": "code",
   "execution_count": 62,
   "id": "f325cd87",
   "metadata": {},
   "outputs": [],
   "source": [
    "#Add printer solution\n",
    "def print_solution(manager, routing, solution):\n",
    "    print('Objectives: {}meters'.format(solution.ObjectiveValue()))\n",
    "    index = routing.Start(0)\n",
    "    plan_output = 'Rute: \\n'\n",
    "    route_distance = 0 \n",
    "    while not routing.IsEnd(index):\n",
    "        plan_output += ' {}->'.format(manager.IndexToNode(index))\n",
    "        previous_index = index\n",
    "        index = solution.Value(routing.NextVar(index))\n",
    "        route_distance =+ routing.GetArcCostForVehicle(previous_index, index, 0)\n",
    "    plan_output += ' {}\\n'.format(manager.IndexToNode(index))\n",
    "    print(plan_output)\n",
    "    plan_output += 'Jarak Rute: {}meters\\n'.format(route_distance)"
   ]
  },
  {
   "cell_type": "code",
   "execution_count": 63,
   "id": "c2e4fdd2",
   "metadata": {},
   "outputs": [
    {
     "name": "stdout",
     "output_type": "stream",
     "text": [
      "Objectives: 0meters\n",
      "Rute: \n",
      " 0-> 279-> 278-> 277-> 276-> 275-> 274-> 273-> 272-> 271-> 270-> 269-> 268-> 267-> 266-> 265-> 264-> 263-> 262-> 261-> 260-> 259-> 258-> 257-> 256-> 255-> 254-> 253-> 252-> 251-> 250-> 249-> 248-> 247-> 246-> 245-> 244-> 243-> 242-> 241-> 240-> 239-> 238-> 237-> 236-> 235-> 234-> 233-> 232-> 231-> 230-> 229-> 228-> 227-> 226-> 225-> 224-> 223-> 222-> 221-> 220-> 219-> 218-> 217-> 216-> 215-> 214-> 213-> 212-> 211-> 210-> 209-> 208-> 207-> 206-> 205-> 204-> 203-> 202-> 201-> 200-> 199-> 198-> 197-> 196-> 195-> 194-> 193-> 192-> 191-> 190-> 189-> 188-> 187-> 186-> 185-> 184-> 183-> 182-> 181-> 180-> 179-> 178-> 177-> 176-> 175-> 174-> 173-> 172-> 171-> 170-> 169-> 168-> 167-> 166-> 165-> 164-> 163-> 162-> 161-> 160-> 159-> 158-> 157-> 156-> 155-> 154-> 153-> 152-> 151-> 150-> 149-> 148-> 147-> 146-> 145-> 144-> 143-> 142-> 141-> 140-> 139-> 138-> 137-> 136-> 135-> 134-> 133-> 132-> 131-> 130-> 129-> 128-> 127-> 126-> 125-> 124-> 123-> 122-> 121-> 120-> 119-> 118-> 117-> 116-> 115-> 114-> 113-> 112-> 111-> 110-> 109-> 108-> 107-> 106-> 105-> 104-> 103-> 102-> 101-> 100-> 99-> 98-> 97-> 96-> 95-> 94-> 93-> 92-> 91-> 90-> 89-> 88-> 87-> 86-> 85-> 84-> 83-> 82-> 81-> 80-> 79-> 78-> 77-> 76-> 75-> 74-> 73-> 72-> 71-> 70-> 69-> 68-> 67-> 66-> 65-> 64-> 63-> 62-> 61-> 60-> 59-> 58-> 57-> 56-> 55-> 54-> 53-> 52-> 51-> 50-> 49-> 48-> 47-> 46-> 45-> 44-> 43-> 42-> 41-> 40-> 39-> 38-> 37-> 36-> 35-> 34-> 33-> 32-> 31-> 30-> 29-> 28-> 27-> 26-> 25-> 24-> 23-> 22-> 21-> 20-> 19-> 18-> 17-> 16-> 15-> 14-> 13-> 12-> 11-> 10-> 9-> 8-> 7-> 6-> 5-> 4-> 3-> 2-> 1-> 0\n",
      "\n"
     ]
    }
   ],
   "source": [
    "#print solution\n",
    "solution = routing.SolveWithParameters(search_parameters)\n",
    "if solution: \n",
    "    print_solution(manager, routing, solution)"
   ]
  }
 ],
 "metadata": {
  "kernelspec": {
   "display_name": "Python 3 (ipykernel)",
   "language": "python",
   "name": "python3"
  },
  "language_info": {
   "codemirror_mode": {
    "name": "ipython",
    "version": 3
   },
   "file_extension": ".py",
   "mimetype": "text/x-python",
   "name": "python",
   "nbconvert_exporter": "python",
   "pygments_lexer": "ipython3",
   "version": "3.9.7"
  }
 },
 "nbformat": 4,
 "nbformat_minor": 5
}
