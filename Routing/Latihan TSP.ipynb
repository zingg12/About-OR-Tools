{
 "cells": [
  {
   "cell_type": "markdown",
   "id": "dd2c8528",
   "metadata": {},
   "source": [
    "# Latihan Dari\n",
    "https://opendsa-server.cs.vt.edu/embed/TSPPRO"
   ]
  },
  {
   "cell_type": "code",
   "execution_count": 3,
   "id": "c46ccd61",
   "metadata": {},
   "outputs": [],
   "source": [
    "from ortools.constraint_solver import routing_enums_pb2\n",
    "from ortools.constraint_solver import pywrapcp\n"
   ]
  },
  {
   "cell_type": "markdown",
   "id": "ae84edd5",
   "metadata": {},
   "source": [
    "# Soal 1\n"
   ]
  },
  {
   "cell_type": "code",
   "execution_count": 149,
   "id": "35f37096",
   "metadata": {},
   "outputs": [],
   "source": [
    "def create_data_model():\n",
    "    data = {}\n",
    "    data['distance_matrix'] = [\n",
    "        [0, 28, 20, 21, 14, 9],\n",
    "        [28, 0, 22, 6, 22, 20],\n",
    "        [20, 22, 0, 3, 17, 29],\n",
    "        [21, 6, 3, 0, 14, 22],\n",
    "        [14, 1, 17, 14, 0, 30],\n",
    "        [9, 20, 29, 22, 30, 0],\n",
    "    ]\n",
    "    data['num_vehicles'] = 1\n",
    "    data['depot'] = 0\n",
    "    return data"
   ]
  },
  {
   "cell_type": "code",
   "execution_count": 150,
   "id": "167fa13b",
   "metadata": {},
   "outputs": [],
   "source": [
    "#create data model\n",
    "data = create_data_model()\n",
    "manager = pywrapcp.RoutingIndexManager(len(data['distance_matrix']), data['num_vehicles'], data['depot'])\n",
    "routing = pywrapcp.RoutingModel(manager)\n",
    "    "
   ]
  },
  {
   "cell_type": "code",
   "execution_count": 151,
   "id": "b547d6d4",
   "metadata": {},
   "outputs": [],
   "source": [
    "#create distance callback\n",
    "def distance_callback(from_index, to_index) : \n",
    "    from_node = manager.IndexToNode(from_index)\n",
    "    to_node = manager.IndexToNode(to_index)\n",
    "    return data['distance_matrix'][from_node][to_node]\n",
    "\n",
    "#register distance callback\n",
    "transit_callback_index = routing.RegisterTransitCallback(distance_callback)"
   ]
  },
  {
   "cell_type": "code",
   "execution_count": 152,
   "id": "8ac5955e",
   "metadata": {},
   "outputs": [],
   "source": [
    "#set cost travel\n",
    "routing.SetArcCostEvaluatorOfAllVehicles(transit_callback_index)"
   ]
  },
  {
   "cell_type": "code",
   "execution_count": 153,
   "id": "13782fc2",
   "metadata": {},
   "outputs": [],
   "source": [
    "#search parameter\n",
    "search_parameters = pywrapcp.DefaultRoutingSearchParameters()\n",
    "search_parameters.first_solution_strategy = (routing_enums_pb2.FirstSolutionStrategy.SAVINGS)"
   ]
  },
  {
   "cell_type": "code",
   "execution_count": 154,
   "id": "51f6bcd0",
   "metadata": {},
   "outputs": [],
   "source": [
    "#add solution printer\n",
    "def print_solution(manager, routing, solution):\n",
    "    print('Objectives: {}meters'.format(solution.ObjectiveValue()))\n",
    "    index = routing.Start(0)\n",
    "    plan_output = 'Rute: \\n'\n",
    "    route_distance = 0 \n",
    "    while not routing.IsEnd(index):\n",
    "        plan_output += ' {}->'.format(manager.IndexToNode(index))\n",
    "        previous_index = index\n",
    "        index = solution.Value(routing.NextVar(index))\n",
    "        route_distance =+ routing.GetArcCostForVehicle(previous_index, index, 0)\n",
    "    plan_output += ' {}\\n'.format(manager.IndexToNode(index))\n",
    "    print(plan_output)\n",
    "    plan_output += 'Jarak Rute: {}meters\\n'.format(route_distance)"
   ]
  },
  {
   "cell_type": "code",
   "execution_count": 155,
   "id": "78b7cdb9",
   "metadata": {},
   "outputs": [
    {
     "name": "stdout",
     "output_type": "stream",
     "text": [
      "Objectives: 62meters\n",
      "Rute: \n",
      " 0-> 4-> 1-> 3-> 2-> 5-> 0\n",
      "\n"
     ]
    }
   ],
   "source": [
    "solution = routing.SolveWithParameters(search_parameters)\n",
    "if solution:\n",
    "    print_solution(manager, routing, solution)"
   ]
  },
  {
   "cell_type": "markdown",
   "id": "f091a4fa",
   "metadata": {},
   "source": [
    "# ------------------------------------------------------------------"
   ]
  },
  {
   "cell_type": "markdown",
   "id": "64b3e8b8",
   "metadata": {},
   "source": [
    "# SOAL 2"
   ]
  },
  {
   "cell_type": "code",
   "execution_count": 4,
   "id": "56eb013d",
   "metadata": {},
   "outputs": [],
   "source": [
    "def create_data_model_2():\n",
    "    data = {}\n",
    "    data['distance_matrix_2'] = [\n",
    "        [0, 1, 5, 25, 8, 26],\n",
    "        [1, 0, 29, 7, 5, 14],\n",
    "        [5, 29, 0, 13, 4, 4],\n",
    "        [25, 7, 13, 0, 24, 13],\n",
    "        [8, 5, 4, 24, 0, 25],\n",
    "        [26, 14, 4, 13, 25, 0],\n",
    "    ]\n",
    "    data['num_vehicles_2'] = 1\n",
    "    data['depot_2'] = 0\n",
    "    return data"
   ]
  },
  {
   "cell_type": "code",
   "execution_count": 5,
   "id": "83d0df65",
   "metadata": {},
   "outputs": [],
   "source": [
    "#create data model\n",
    "data = create_data_model_2()\n",
    "manager = pywrapcp.RoutingIndexManager(len(data['distance_matrix_2']), data['num_vehicles_2'], data['depot_2'])\n",
    "routing = pywrapcp.RoutingModel(manager)"
   ]
  },
  {
   "cell_type": "code",
   "execution_count": 6,
   "id": "c1ca2d9d",
   "metadata": {},
   "outputs": [],
   "source": [
    "#Create Distance Callback\n",
    "def distance_callback_2(from_index, to_index):\n",
    "    from_node = manager.IndexToNode(from_index)\n",
    "    to_node = manager.IndexToNode(to_index)\n",
    "    return data['distance_matrix_2'][from_node][to_node]\n",
    "\n",
    "transit_callback_index_2 = routing.RegisterTransitCallback(distance_callback_2)"
   ]
  },
  {
   "cell_type": "code",
   "execution_count": 7,
   "id": "6a9afdba",
   "metadata": {},
   "outputs": [],
   "source": [
    "#Set cost travel\n",
    "routing.SetArcCostEvaluatorOfAllVehicles(transit_callback_index_2)"
   ]
  },
  {
   "cell_type": "code",
   "execution_count": 8,
   "id": "6657ffb2",
   "metadata": {},
   "outputs": [],
   "source": [
    "#search parameter\n",
    "search_parameters_2 = pywrapcp.DefaultRoutingSearchParameters()\n",
    "search_parameters_2.first_solution_strategy = (routing_enums_pb2.FirstSolutionStrategy.SAVINGS)"
   ]
  },
  {
   "cell_type": "code",
   "execution_count": 9,
   "id": "862b3f2d",
   "metadata": {},
   "outputs": [],
   "source": [
    "#add solution printer\n",
    "def print_solution_2(manager, routing, solution):\n",
    "    print('Objectives: {}meters'.format(solution.ObjectiveValue()))\n",
    "    index = routing.Start(0)\n",
    "    plan_output = 'Rute: \\n'\n",
    "    route_distance = 0 \n",
    "    while not routing.IsEnd(index):\n",
    "        plan_output += ' {}->'.format(manager.IndexToNode(index))\n",
    "        previous_index = index\n",
    "        index = solution.Value(routing.NextVar(index))\n",
    "        route_distance =+ routing.GetArcCostForVehicle(previous_index, index, 0)\n",
    "    plan_output += ' {}\\n'.format(manager.IndexToNode(index))\n",
    "    print(plan_output)\n",
    "    plan_output += 'Jarak Rute: {}meters\\n'.format(route_distance)"
   ]
  },
  {
   "cell_type": "code",
   "execution_count": 11,
   "id": "6c146415",
   "metadata": {},
   "outputs": [
    {
     "name": "stdout",
     "output_type": "stream",
     "text": [
      "Objectives: 37meters\n",
      "Rute: \n",
      " 0-> 1-> 3-> 5-> 2-> 4-> 0\n",
      "\n"
     ]
    }
   ],
   "source": [
    "solution = routing.SolveWithParameters(search_parameters_2)\n",
    "if solution:\n",
    "    print_solution_2(manager, routing, solution)"
   ]
  },
  {
   "cell_type": "markdown",
   "id": "11ca7338",
   "metadata": {},
   "source": [
    "# Data Kaggle\n",
    "https://www.kaggle.com/code/tanmoyie/traveling-salesman-problem-to-optimize-travel\n"
   ]
  },
  {
   "cell_type": "code",
   "execution_count": 50,
   "id": "875476d1",
   "metadata": {},
   "outputs": [],
   "source": [
    "from ortools.constraint_solver import routing_enums_pb2\n",
    "from ortools.constraint_solver import pywrapcp"
   ]
  },
  {
   "cell_type": "code",
   "execution_count": 90,
   "id": "2c201da2",
   "metadata": {},
   "outputs": [],
   "source": [
    "def create_data_model():\n",
    "    data = {}\n",
    "    data['distance_matrix'] = [\n",
    "    [  0, 290, 250,  230,  190,  334, 365,   40], # Dhaka\n",
    "    [290,   0, 337,  453,  396,  560, 581,  244], # Syhlet\n",
    "    [250, 337,   0,  495,  396,  540, 120,  240], # Chittagonj\n",
    "    [230, 453, 495,    0,  360,  150, 595,  242], # Rajshahi\n",
    "    [190, 396, 396,  360,    0,  356, 496,  253], # Jossore\n",
    "    [334, 560, 540,  150,  356,    0, 674,  275], # Dinajpur\n",
    "    [365, 581, 120,  595,  496,  674,   0,  397], # Coxsbazar\n",
    "    [40,  244, 240,  242,  253,  275, 397,    0],# Narsingdi\n",
    "    ] \n",
    "    data['jumlah_kendaraan'] = 1\n",
    "    data['depot'] = 0\n",
    "    return data"
   ]
  },
  {
   "cell_type": "code",
   "execution_count": 91,
   "id": "60c573c6",
   "metadata": {},
   "outputs": [],
   "source": [
    "data = create_data_model()\n",
    "manager = pywrapcp.RoutingIndexManager(len(data['distance_matrix']), data['jumlah_kendaraan'], data['depot'])\n",
    "routing = pywrapcp.RoutingModel(manager)"
   ]
  },
  {
   "cell_type": "code",
   "execution_count": 92,
   "id": "030a0206",
   "metadata": {},
   "outputs": [],
   "source": [
    "def distance_callback(from_index, to_index):\n",
    "    from_node = manager.IndexToNode(from_index)\n",
    "    to_node = manager.IndexToNode(to_index)\n",
    "    return data['distance_matrix'][from_node][to_node]\n",
    "#transit callback index\n",
    "transit_callback_index = routing.RegisterTransitCallback(distance_callback)"
   ]
  },
  {
   "cell_type": "code",
   "execution_count": 93,
   "id": "895c656a",
   "metadata": {},
   "outputs": [],
   "source": [
    "routing.SetArcCostEvaluatorOfAllVehicles(transit_callback_index)"
   ]
  },
  {
   "cell_type": "code",
   "execution_count": 94,
   "id": "8e7e4db8",
   "metadata": {},
   "outputs": [],
   "source": [
    "# search_parameters = pywrapcp.DefaultRoutingSearchParameters()\n",
    "# search_parameters.first_solution_strategy = (\n",
    "# routing_enums_pb2.FirstSolutionStrategy.SAVINGS)\n",
    "\n",
    "#---------------------------------------------------------------------------\n",
    "\n",
    "search_parameters = pywrapcp.DefaultRoutingSearchParameters()\n",
    "search_parameters.local_search_metaheuristic = (\n",
    "routing_enums_pb2.LocalSearchMetaheuristic.GUIDED_LOCAL_SEARCH)\n",
    "search_parameters.time_limit.seconds = 2\n",
    "search_parameters.log_search = True"
   ]
  },
  {
   "cell_type": "code",
   "execution_count": 95,
   "id": "05e3f7d9",
   "metadata": {},
   "outputs": [],
   "source": [
    "#add solution printer\n",
    "def print_solution(manager, routing, solution):\n",
    "    print('Objectives: {}kilometer'.format(solution.ObjectiveValue()))\n",
    "    index = routing.Start(0)\n",
    "    plan_output = 'Rute: \\n'\n",
    "    route_distance = 0 \n",
    "    while not routing.IsEnd(index):\n",
    "        plan_output += ' {}->'.format(manager.IndexToNode(index))\n",
    "        previous_index = index\n",
    "        index = solution.Value(routing.NextVar(index))\n",
    "        route_distance =+ routing.GetArcCostForVehicle(previous_index, index, 0)\n",
    "    plan_output += ' {}\\n'.format(manager.IndexToNode(index))\n",
    "    print(plan_output)\n",
    "    plan_output += 'Jarak Rute: {}kilometer\\n'.format(route_distance)"
   ]
  },
  {
   "cell_type": "code",
   "execution_count": 96,
   "id": "6e368493",
   "metadata": {},
   "outputs": [
    {
     "name": "stdout",
     "output_type": "stream",
     "text": [
      "Objectives: 1973kilometer\n",
      "Rute: \n",
      " 0-> 3-> 5-> 4-> 6-> 2-> 1-> 7-> 0\n",
      "\n"
     ]
    }
   ],
   "source": [
    "solution = routing.SolveWithParameters(search_parameters)\n",
    "if solution : \n",
    "    print_solution(manager, routing, solution)"
   ]
  },
  {
   "cell_type": "markdown",
   "id": "d86cac0b",
   "metadata": {},
   "source": [
    "Bikin Soal Sendiri"
   ]
  },
  {
   "cell_type": "code",
   "execution_count": 100,
   "id": "d72a5034",
   "metadata": {},
   "outputs": [],
   "source": [
    "def create_data_model():\n",
    "    data = {}\n",
    "    data['distance_matrix'] = [\n",
    "        [0, 7, 10, 25],\n",
    "        [7, 0, 15, 50],\n",
    "        [10, 15, 0, 30],\n",
    "        [25, 50, 30, 0],\n",
    "    ]\n",
    "    data['num_vehicles'] = 1\n",
    "    data['depot'] = 0\n",
    "    return data"
   ]
  },
  {
   "cell_type": "code",
   "execution_count": 101,
   "id": "ab5e4c88",
   "metadata": {},
   "outputs": [],
   "source": [
    "#create data model\n",
    "data = create_data_model()\n",
    "manager = pywrapcp.RoutingIndexManager(len(data['distance_matrix']), data['num_vehicles'], data['depot'])\n",
    "routing = pywrapcp.RoutingModel(manager)"
   ]
  },
  {
   "cell_type": "code",
   "execution_count": 102,
   "id": "1206b305",
   "metadata": {},
   "outputs": [],
   "source": [
    "#create distance callback \n",
    "def distance_callback(from_index, to_index):\n",
    "    from_node = manager.IndexToNode(from_index)\n",
    "    to_node = manager.IndexToNode(to_index)\n",
    "    return data['distance_matrix'][from_node][to_node]\n",
    "transit_callback_index = routing.RegisterTransitCallback(distance_callback)"
   ]
  },
  {
   "cell_type": "code",
   "execution_count": 103,
   "id": "b674c7b7",
   "metadata": {},
   "outputs": [],
   "source": [
    "#set cost travel\n",
    "routing.SetArcCostEvaluatorOfAllVehicles(transit_callback_index)"
   ]
  },
  {
   "cell_type": "code",
   "execution_count": 104,
   "id": "12958b44",
   "metadata": {},
   "outputs": [],
   "source": [
    "#add printer solution\n",
    "def print_solution(manager, routing, solution):\n",
    "    print('Objectives: {}meters'.format(solution.ObjectiveValue()))\n",
    "    index = routing.Start(0)\n",
    "    plan_output = 'Rute: \\n'\n",
    "    route_distance = 0 \n",
    "    while not routing.IsEnd(index):\n",
    "        plan_output += ' {}->'.format(manager.IndexToNode(index))\n",
    "        previous_index = index\n",
    "        index = solution.Value(routing.NextVar(index))\n",
    "        route_distance =+ routing.GetArcCostForVehicle(previous_index, index, 0)\n",
    "    plan_output += ' {}\\n'.format(manager.IndexToNode(index))\n",
    "    print(plan_output)\n",
    "    plan_output += 'Jarak Rute: {}meters\\n'.format(route_distance)"
   ]
  },
  {
   "cell_type": "code",
   "execution_count": 105,
   "id": "76de6eea",
   "metadata": {},
   "outputs": [],
   "source": [
    "#search parameter\n",
    "search_parameters = pywrapcp.DefaultRoutingSearchParameters()\n",
    "search_parameters.first_solution_strategy = (\n",
    "routing_enums_pb2.FirstSolutionStrategy.AUTOMATIC)"
   ]
  },
  {
   "cell_type": "code",
   "execution_count": 106,
   "id": "2e563052",
   "metadata": {},
   "outputs": [
    {
     "name": "stdout",
     "output_type": "stream",
     "text": [
      "Objectives: 77meters\n",
      "Rute: \n",
      " 0-> 1-> 2-> 3-> 0\n",
      "\n"
     ]
    }
   ],
   "source": [
    "#print solution\n",
    "solution = routing.SolveWithParameters(search_parameters)\n",
    "if solution : \n",
    "    print_solution(manager, routing, solution)"
   ]
  },
  {
   "cell_type": "markdown",
   "id": "99d2ccd8",
   "metadata": {},
   "source": [
    "Kasus VRP (distance_matrix) di TSP"
   ]
  },
  {
   "cell_type": "code",
   "execution_count": 1,
   "id": "7a51c74e",
   "metadata": {},
   "outputs": [],
   "source": [
    "from ortools.constraint_solver import routing_enums_pb2\n",
    "from ortools.constraint_solver import pywrapcp"
   ]
  },
  {
   "cell_type": "code",
   "execution_count": 2,
   "id": "99fa7c63",
   "metadata": {},
   "outputs": [],
   "source": [
    "def create_data_model():\n",
    "    data = {}\n",
    "    data['distance_matrix'] = [\n",
    "        [\n",
    "            0, 548, 776, 696, 582, 274, 502, 194, 308, 194, 536, 502, 388, 354,\n",
    "            468, 776, 662\n",
    "        ],\n",
    "        [\n",
    "            548, 0, 684, 308, 194, 502, 730, 354, 696, 742, 1084, 594, 480, 674,\n",
    "            1016, 868, 1210\n",
    "        ],\n",
    "        [\n",
    "            776, 684, 0, 992, 878, 502, 274, 810, 468, 742, 400, 1278, 1164,\n",
    "            1130, 788, 1552, 754\n",
    "        ],\n",
    "        [\n",
    "            696, 308, 992, 0, 114, 650, 878, 502, 844, 890, 1232, 514, 628, 822,\n",
    "            1164, 560, 1358\n",
    "        ],\n",
    "        [\n",
    "            582, 194, 878, 114, 0, 536, 764, 388, 730, 776, 1118, 400, 514, 708,\n",
    "            1050, 674, 1244\n",
    "        ],\n",
    "        [\n",
    "            274, 502, 502, 650, 536, 0, 228, 308, 194, 240, 582, 776, 662, 628,\n",
    "            514, 1050, 708\n",
    "        ],\n",
    "        [\n",
    "            502, 730, 274, 878, 764, 228, 0, 536, 194, 468, 354, 1004, 890, 856,\n",
    "            514, 1278, 480\n",
    "        ],\n",
    "        [\n",
    "            194, 354, 810, 502, 388, 308, 536, 0, 342, 388, 730, 468, 354, 320,\n",
    "            662, 742, 856\n",
    "        ],\n",
    "        [\n",
    "            308, 696, 468, 844, 730, 194, 194, 342, 0, 274, 388, 810, 696, 662,\n",
    "            320, 1084, 514\n",
    "        ],\n",
    "        [\n",
    "            194, 742, 742, 890, 776, 240, 468, 388, 274, 0, 342, 536, 422, 388,\n",
    "            274, 810, 468\n",
    "        ],\n",
    "        [\n",
    "            536, 1084, 400, 1232, 1118, 582, 354, 730, 388, 342, 0, 878, 764,\n",
    "            730, 388, 1152, 354\n",
    "        ],\n",
    "        [\n",
    "            502, 594, 1278, 514, 400, 776, 1004, 468, 810, 536, 878, 0, 114,\n",
    "            308, 650, 274, 844\n",
    "        ],\n",
    "        [\n",
    "            388, 480, 1164, 628, 514, 662, 890, 354, 696, 422, 764, 114, 0, 194,\n",
    "            536, 388, 730\n",
    "        ],\n",
    "        [\n",
    "            354, 674, 1130, 822, 708, 628, 856, 320, 662, 388, 730, 308, 194, 0,\n",
    "            342, 422, 536\n",
    "        ],\n",
    "        [\n",
    "            468, 1016, 788, 1164, 1050, 514, 514, 662, 320, 274, 388, 650, 536,\n",
    "            342, 0, 764, 194\n",
    "        ],\n",
    "        [\n",
    "            776, 868, 1552, 560, 674, 1050, 1278, 742, 1084, 810, 1152, 274,\n",
    "            388, 422, 764, 0, 798\n",
    "        ],\n",
    "        [\n",
    "            662, 1210, 754, 1358, 1244, 708, 480, 856, 514, 468, 354, 844, 730,\n",
    "            536, 194, 798, 0\n",
    "        ],\n",
    "    ]\n",
    "    data['num_vehicles'] = 1\n",
    "    data['depot'] = 0\n",
    "    return data"
   ]
  },
  {
   "cell_type": "code",
   "execution_count": 3,
   "id": "47a35f25",
   "metadata": {},
   "outputs": [],
   "source": [
    "data = create_data_model()\n",
    "manager = pywrapcp.RoutingIndexManager(len(data['distance_matrix']), data['num_vehicles'], data['depot'])\n",
    "routing = pywrapcp.RoutingModel(manager)"
   ]
  },
  {
   "cell_type": "code",
   "execution_count": 4,
   "id": "500d9646",
   "metadata": {},
   "outputs": [],
   "source": [
    "def distance_callback(from_index, to_index):\n",
    "    from_node = manager.IndexToNode(from_index)\n",
    "    to_node = manager.IndexToNode(to_index)\n",
    "    return data['distance_matrix'][from_node][to_node]"
   ]
  },
  {
   "cell_type": "code",
   "execution_count": 5,
   "id": "7b6c0789",
   "metadata": {},
   "outputs": [],
   "source": [
    "transit_callback_index = routing.RegisterTransitCallback(distance_callback)"
   ]
  },
  {
   "cell_type": "code",
   "execution_count": 6,
   "id": "91d8f957",
   "metadata": {},
   "outputs": [],
   "source": [
    "routing.SetArcCostEvaluatorOfAllVehicles(transit_callback_index)"
   ]
  },
  {
   "cell_type": "code",
   "execution_count": 7,
   "id": "4d77cc53",
   "metadata": {},
   "outputs": [],
   "source": [
    "search_parameters = pywrapcp.DefaultRoutingSearchParameters()\n",
    "search_parameters.first_solution_strategy = (\n",
    "routing_enums_pb2.FirstSolutionStrategy.SAVINGS)"
   ]
  },
  {
   "cell_type": "code",
   "execution_count": 8,
   "id": "e414ddfa",
   "metadata": {},
   "outputs": [],
   "source": [
    "#add printer solution\n",
    "def print_solution(manager, routing, solution):\n",
    "    print('Objectives: {}meters'.format(solution.ObjectiveValue()))\n",
    "    index = routing.Start(0)\n",
    "    plan_output = 'Rute: \\n'\n",
    "    route_distance = 0 \n",
    "    while not routing.IsEnd(index):\n",
    "        plan_output += ' {}->'.format(manager.IndexToNode(index))\n",
    "        previous_index = index\n",
    "        index = solution.Value(routing.NextVar(index))\n",
    "        route_distance =+ routing.GetArcCostForVehicle(previous_index, index, 0)\n",
    "    plan_output += ' {}\\n'.format(manager.IndexToNode(index))\n",
    "    print(plan_output)\n",
    "    plan_output += 'Jarak Rute: {}meters\\n'.format(route_distance)"
   ]
  },
  {
   "cell_type": "code",
   "execution_count": 9,
   "id": "113eb613",
   "metadata": {},
   "outputs": [
    {
     "name": "stdout",
     "output_type": "stream",
     "text": [
      "Objectives: 4976meters\n",
      "Rute: \n",
      " 0-> 9-> 10-> 16-> 14-> 8-> 5-> 6-> 2-> 1-> 3-> 4-> 11-> 15-> 12-> 13-> 7-> 0\n",
      "\n"
     ]
    }
   ],
   "source": [
    "solution = routing.SolveWithParameters(search_parameters)\n",
    "if solution:\n",
    "    print_solution(manager, routing, solution)"
   ]
  },
  {
   "cell_type": "markdown",
   "id": "04cb2c3b",
   "metadata": {},
   "source": [
    "# ------------------------------------------------------------------"
   ]
  },
  {
   "cell_type": "markdown",
   "id": "d451369c",
   "metadata": {},
   "source": [
    "Setting start and end location for routes"
   ]
  },
  {
   "cell_type": "code",
   "execution_count": 1,
   "id": "35b755a7",
   "metadata": {},
   "outputs": [],
   "source": [
    "from ortools.constraint_solver import routing_enums_pb2\n",
    "from ortools.constraint_solver import pywrapcp"
   ]
  },
  {
   "cell_type": "code",
   "execution_count": 48,
   "id": "b36c1c26",
   "metadata": {},
   "outputs": [],
   "source": [
    "def create_data_model():\n",
    "    data = {}\n",
    "    data['distance_matrix'] = [\n",
    "        [0, 1, 5, 25, 8, 26],\n",
    "        [1, 0, 29, 7, 5, 14],\n",
    "        [5, 29, 0, 13, 4, 4],\n",
    "        [25, 7, 13, 0, 24, 13],\n",
    "        [8, 5, 4, 24, 0, 25],\n",
    "        [26, 14, 4, 13, 25, 0],\n",
    "    ]\n",
    "    data['num_vehicles'] = 1\n",
    "#     data['depot'] = 0\n",
    "    data['start'] = [1]\n",
    "    data['end'] = [0]\n",
    "    return data"
   ]
  },
  {
   "cell_type": "code",
   "execution_count": 49,
   "id": "fcc994e4",
   "metadata": {},
   "outputs": [],
   "source": [
    "data = create_data_model()\n",
    "manager = pywrapcp.RoutingIndexManager(len(data['distance_matrix']), data['num_vehicles'], data['start'], data['end'])\n",
    "routing = pywrapcp.RoutingModel(manager)"
   ]
  },
  {
   "cell_type": "code",
   "execution_count": 50,
   "id": "80a90387",
   "metadata": {},
   "outputs": [],
   "source": [
    "#distance callback\n",
    "def distance_callback(from_index, to_index):\n",
    "    from_node = manager.IndexToNode(from_index)\n",
    "    to_node = manager.IndexToNode(to_index)\n",
    "    return data['distance_matrix'][from_node][to_node]\n",
    "#regist\n",
    "transit_callback_index = routing.RegisterTransitCallback(distance_callback)"
   ]
  },
  {
   "cell_type": "code",
   "execution_count": 51,
   "id": "6d0dac04",
   "metadata": {},
   "outputs": [],
   "source": [
    "routing.SetArcCostEvaluatorOfAllVehicles(transit_callback_index)"
   ]
  },
  {
   "cell_type": "code",
   "execution_count": 52,
   "id": "a83864b0",
   "metadata": {},
   "outputs": [],
   "source": [
    "search_parameters = pywrapcp.DefaultRoutingSearchParameters()\n",
    "search_parameters.first_solution_strategy = (\n",
    "routing_enums_pb2.FirstSolutionStrategy.AUTOMATIC)"
   ]
  },
  {
   "cell_type": "code",
   "execution_count": 53,
   "id": "31f64647",
   "metadata": {},
   "outputs": [],
   "source": [
    "#add printer solution\n",
    "def print_solution(manager, routing, solution):\n",
    "    print('Objectives: {}meters'.format(solution.ObjectiveValue()))\n",
    "    index = routing.Start(vehicle_id)\n",
    "    plan_output = 'Rute: \\n'\n",
    "    route_distance = 0 \n",
    "    while not routing.IsEnd(index):\n",
    "        plan_output += ' {}->'.format(manager.IndexToNode(index))\n",
    "        previous_index = index\n",
    "        index = solution.Value(routing.NextVar(index))\n",
    "        route_distance =+ routing.GetArcCostForVehicle(previous_index, index, 0)\n",
    "    plan_output += ' {}\\n'.format(manager.IndexToNode(index))\n",
    "    print(plan_output)\n",
    "    plan_output += 'Jarak Rute: {}meters\\n'.format(route_distance)"
   ]
  },
  {
   "cell_type": "code",
   "execution_count": 54,
   "id": "ccbc2d5a",
   "metadata": {},
   "outputs": [
    {
     "ename": "TypeError",
     "evalue": "'Assignment' object is not callable",
     "output_type": "error",
     "traceback": [
      "\u001b[1;31m---------------------------------------------------------------------------\u001b[0m",
      "\u001b[1;31mTypeError\u001b[0m                                 Traceback (most recent call last)",
      "\u001b[1;32m~\\AppData\\Local\\Temp/ipykernel_35180/3552628902.py\u001b[0m in \u001b[0;36m<module>\u001b[1;34m\u001b[0m\n\u001b[0;32m      1\u001b[0m \u001b[0msolution\u001b[0m \u001b[1;33m=\u001b[0m \u001b[0mrouting\u001b[0m\u001b[1;33m.\u001b[0m\u001b[0mSolveWithParameters\u001b[0m\u001b[1;33m(\u001b[0m\u001b[0msearch_parameters\u001b[0m\u001b[1;33m)\u001b[0m\u001b[1;33m\u001b[0m\u001b[1;33m\u001b[0m\u001b[0m\n\u001b[0;32m      2\u001b[0m \u001b[1;32mif\u001b[0m \u001b[0msolution\u001b[0m \u001b[1;33m:\u001b[0m\u001b[1;33m\u001b[0m\u001b[1;33m\u001b[0m\u001b[0m\n\u001b[1;32m----> 3\u001b[1;33m     \u001b[0mprint_solution\u001b[0m\u001b[1;33m(\u001b[0m\u001b[0mmanager\u001b[0m\u001b[1;33m,\u001b[0m \u001b[0mrouting\u001b[0m\u001b[1;33m,\u001b[0m \u001b[0msolution\u001b[0m\u001b[1;33m)\u001b[0m\u001b[1;33m\u001b[0m\u001b[1;33m\u001b[0m\u001b[0m\n\u001b[0m",
      "\u001b[1;32m~\\AppData\\Local\\Temp/ipykernel_35180/2836853169.py\u001b[0m in \u001b[0;36mprint_solution\u001b[1;34m(manager, routing, solution)\u001b[0m\n\u001b[0;32m      1\u001b[0m \u001b[1;31m#add printer solution\u001b[0m\u001b[1;33m\u001b[0m\u001b[1;33m\u001b[0m\u001b[0m\n\u001b[0;32m      2\u001b[0m \u001b[1;32mdef\u001b[0m \u001b[0mprint_solution\u001b[0m\u001b[1;33m(\u001b[0m\u001b[0mmanager\u001b[0m\u001b[1;33m,\u001b[0m \u001b[0mrouting\u001b[0m\u001b[1;33m,\u001b[0m \u001b[0msolution\u001b[0m\u001b[1;33m)\u001b[0m\u001b[1;33m:\u001b[0m\u001b[1;33m\u001b[0m\u001b[1;33m\u001b[0m\u001b[0m\n\u001b[1;32m----> 3\u001b[1;33m     \u001b[0mprint\u001b[0m\u001b[1;33m(\u001b[0m\u001b[1;34m'Objectives: {}meters'\u001b[0m\u001b[1;33m.\u001b[0m\u001b[0mformat\u001b[0m\u001b[1;33m(\u001b[0m\u001b[0msolution\u001b[0m\u001b[1;33m.\u001b[0m\u001b[0mObjectiveValue\u001b[0m\u001b[1;33m(\u001b[0m\u001b[1;33m)\u001b[0m\u001b[1;33m)\u001b[0m\u001b[1;33m)\u001b[0m\u001b[1;33m\u001b[0m\u001b[1;33m\u001b[0m\u001b[0m\n\u001b[0m\u001b[0;32m      4\u001b[0m     \u001b[0mindex\u001b[0m \u001b[1;33m=\u001b[0m \u001b[0mrouting\u001b[0m\u001b[1;33m.\u001b[0m\u001b[0mStart\u001b[0m\u001b[1;33m(\u001b[0m\u001b[0mvehicle_id\u001b[0m\u001b[1;33m)\u001b[0m\u001b[1;33m\u001b[0m\u001b[1;33m\u001b[0m\u001b[0m\n\u001b[0;32m      5\u001b[0m     \u001b[0mplan_output\u001b[0m \u001b[1;33m=\u001b[0m \u001b[1;34m'Rute: \\n'\u001b[0m\u001b[1;33m\u001b[0m\u001b[1;33m\u001b[0m\u001b[0m\n",
      "\u001b[1;31mTypeError\u001b[0m: 'Assignment' object is not callable"
     ]
    }
   ],
   "source": [
    "solution = routing.SolveWithParameters(search_parameters)\n",
    "if solution : \n",
    "    print_solution(manager, routing, solution)"
   ]
  },
  {
   "cell_type": "markdown",
   "id": "43e98d14",
   "metadata": {},
   "source": [
    "# ------------------------------------------------------------------"
   ]
  }
 ],
 "metadata": {
  "kernelspec": {
   "display_name": "Python 3 (ipykernel)",
   "language": "python",
   "name": "python3"
  },
  "language_info": {
   "codemirror_mode": {
    "name": "ipython",
    "version": 3
   },
   "file_extension": ".py",
   "mimetype": "text/x-python",
   "name": "python",
   "nbconvert_exporter": "python",
   "pygments_lexer": "ipython3",
   "version": "3.9.7"
  }
 },
 "nbformat": 4,
 "nbformat_minor": 5
}
