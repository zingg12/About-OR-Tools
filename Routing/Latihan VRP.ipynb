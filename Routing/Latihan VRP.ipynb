{
 "cells": [
  {
   "cell_type": "code",
   "execution_count": 29,
   "id": "1539ea3a",
   "metadata": {},
   "outputs": [],
   "source": [
    "from ortools.constraint_solver import routing_enums_pb2\n",
    "from ortools.constraint_solver import pywrapcp"
   ]
  },
  {
   "cell_type": "code",
   "execution_count": 70,
   "id": "3064743b",
   "metadata": {},
   "outputs": [],
   "source": [
    "def create_data_model():\n",
    "    data = {}\n",
    "    data['distance_matrix'] = [\n",
    "        [0, 18, 22, 38, 27, 22],\n",
    "        [18, 0, 24, 22, 9, 4],\n",
    "        [22, 4, 0, 17, 5, 2],\n",
    "        [38, 22, 17, 0, 13, 18],\n",
    "        [27, 9, 5, 13, 0, 5],\n",
    "        [22, 4, 2, 18, 5, 0],\n",
    "    ]\n",
    "    data['num_vehicles'] = 3\n",
    "    data['depot'] = 0\n",
    "    return data"
   ]
  },
  {
   "cell_type": "code",
   "execution_count": 71,
   "id": "371072cf",
   "metadata": {},
   "outputs": [],
   "source": [
    "#create data model \n",
    "data = create_data_model()\n",
    "manager = pywrapcp.RoutingIndexManager(len(data['distance_matrix']), data['num_vehicles'], data['depot'])\n",
    "routing = pywrapcp.RoutingModel(manager)"
   ]
  },
  {
   "cell_type": "code",
   "execution_count": 72,
   "id": "021e458f",
   "metadata": {},
   "outputs": [],
   "source": [
    "#distance callback\n",
    "def distance_callback(from_index, to_index):\n",
    "    from_node = manager.IndexToNode(from_index)\n",
    "    to_node = manager.IndexToNode(to_index)\n",
    "    return data['distance_matrix'][from_node][to_node]\n",
    "#register transit distance callback\n",
    "transit_callback_index = routing.RegisterTransitCallback(distance_callback)"
   ]
  },
  {
   "cell_type": "code",
   "execution_count": 73,
   "id": "21d64f61",
   "metadata": {},
   "outputs": [],
   "source": [
    "#set cost travel \n",
    "routing.SetArcCostEvaluatorOfAllVehicles(transit_callback_index)"
   ]
  },
  {
   "cell_type": "code",
   "execution_count": 74,
   "id": "06946d1b",
   "metadata": {},
   "outputs": [],
   "source": [
    "#create distance dimension\n",
    "distance = 'Distance'\n",
    "routing.AddDimension(\n",
    "transit_callback_index,\n",
    "0,\n",
    "77,\n",
    "True,\n",
    "distance)\n",
    "distance_dimension = routing.GetDimensionOrDie(distance)\n",
    "distance_dimension.SetGlobalSpanCostCoefficient(100)"
   ]
  },
  {
   "cell_type": "code",
   "execution_count": 75,
   "id": "955fcdcf",
   "metadata": {},
   "outputs": [],
   "source": [
    "#Add Solution Printer\n",
    "def print_solution(data, manager, routing, solution):\n",
    "    \"\"\"Prints solution on console.\"\"\"\n",
    "    print(f'Objective: {solution.ObjectiveValue()}')\n",
    "    max_route_distance = 0\n",
    "    for vehicle_id in range(data['num_vehicles']):\n",
    "        index = routing.Start(vehicle_id)\n",
    "        plan_output = 'Route for vehicle {}:\\n'.format(vehicle_id)\n",
    "        route_distance = 0\n",
    "        while not routing.IsEnd(index):\n",
    "            plan_output += ' {} -> '.format(manager.IndexToNode(index))\n",
    "            previous_index = index\n",
    "            index = solution.Value(routing.NextVar(index))\n",
    "            route_distance += routing.GetArcCostForVehicle(\n",
    "                previous_index, index, vehicle_id)\n",
    "        plan_output += '{}\\n'.format(manager.IndexToNode(index))\n",
    "        plan_output += 'Distance of the route: {}m\\n'.format(route_distance)\n",
    "        print(plan_output)\n",
    "        max_route_distance = max(route_distance, max_route_distance)\n",
    "    print('Maximum of the route distances: {}m'.format(max_route_distance))"
   ]
  },
  {
   "cell_type": "code",
   "execution_count": 76,
   "id": "404abc74",
   "metadata": {},
   "outputs": [],
   "source": [
    "#search Parameter\n",
    "search_parameters = pywrapcp.DefaultRoutingSearchParameters()\n",
    "search_parameters.first_solution_strategy = (\n",
    "routing_enums_pb2.FirstSolutionStrategy.AUTOMATIC)"
   ]
  },
  {
   "cell_type": "code",
   "execution_count": 77,
   "id": "99412f32",
   "metadata": {},
   "outputs": [
    {
     "name": "stdout",
     "output_type": "stream",
     "text": [
      "Objective: 7730\n",
      "Route for vehicle 0:\n",
      " 0 -> 0\n",
      "Distance of the route: 0m\n",
      "\n",
      "Route for vehicle 1:\n",
      " 0 ->  3 -> 0\n",
      "Distance of the route: 76m\n",
      "\n",
      "Route for vehicle 2:\n",
      " 0 ->  1 ->  5 ->  4 ->  2 -> 0\n",
      "Distance of the route: 54m\n",
      "\n",
      "Maximum of the route distances: 76m\n"
     ]
    }
   ],
   "source": [
    "#print Solution\n",
    "solution = routing.SolveWithParameters(search_parameters)\n",
    "if solution : \n",
    "    print_solution(data, manager, routing, solution)"
   ]
  },
  {
   "cell_type": "markdown",
   "id": "45296ebd",
   "metadata": {},
   "source": [
    "# ------------------------------------------------------------------"
   ]
  },
  {
   "cell_type": "markdown",
   "id": "52040d0e",
   "metadata": {},
   "source": [
    "Data Kaggle\n"
   ]
  },
  {
   "cell_type": "code",
   "execution_count": 10,
   "id": "3a5873ff",
   "metadata": {},
   "outputs": [],
   "source": [
    "def create_data_model():\n",
    "    data = {}\n",
    "    data['distance_matrix'] = [\n",
    "    [  0, 290, 250,  230,  190,  334, 365,   40], # Dhaka\n",
    "    [290,   0, 337,  453,  396,  560, 581,  244], # Syhlet\n",
    "    [250, 337,   0,  495,  396,  540, 120,  240], # Chittagonj\n",
    "    [230, 453, 495,    0,  360,  150, 595,  242], # Rajshahi\n",
    "    [190, 396, 396,  360,    0,  356, 496,  253], # Jossore\n",
    "    [334, 560, 540,  150,  356,    0, 674,  275], # Dinajpur\n",
    "    [365, 581, 120,  595,  496,  674,   0,  397], # Coxsbazar\n",
    "    [40,  244, 240,  242,  253,  275, 397,    0],# Narsingdi\n",
    "    ] \n",
    "    data['num_vehicles'] = 4\n",
    "    data['depot'] = 0\n",
    "    return data"
   ]
  },
  {
   "cell_type": "code",
   "execution_count": 11,
   "id": "fe700bc6",
   "metadata": {},
   "outputs": [],
   "source": [
    "#create data model \n",
    "data = create_data_model()\n",
    "manager = pywrapcp.RoutingIndexManager(len(data['distance_matrix']), data['num_vehicles'], data['depot'])\n",
    "routing = pywrapcp.RoutingModel(manager)"
   ]
  },
  {
   "cell_type": "code",
   "execution_count": 12,
   "id": "b25ea9bc",
   "metadata": {},
   "outputs": [],
   "source": [
    "#distance callback\n",
    "def distance_callback(from_index, to_index):\n",
    "    from_node = manager.IndexToNode(from_index)\n",
    "    to_node = manager.IndexToNode(to_index)\n",
    "    return data['distance_matrix'][from_node][to_node]\n",
    "#register transit distance callback\n",
    "transit_callback_index = routing.RegisterTransitCallback(distance_callback)"
   ]
  },
  {
   "cell_type": "code",
   "execution_count": 13,
   "id": "71a8357f",
   "metadata": {},
   "outputs": [],
   "source": [
    "#set cost travel \n",
    "routing.SetArcCostEvaluatorOfAllVehicles(transit_callback_index)"
   ]
  },
  {
   "cell_type": "code",
   "execution_count": 14,
   "id": "578889fe",
   "metadata": {},
   "outputs": [],
   "source": [
    "#create distance dimension\n",
    "distance = 'Distance'\n",
    "routing.AddDimension(\n",
    "transit_callback_index,\n",
    "0,\n",
    "1000,\n",
    "True,\n",
    "distance)\n",
    "distance_dimension = routing.GetDimensionOrDie(distance)\n",
    "distance_dimension.SetGlobalSpanCostCoefficient(100)"
   ]
  },
  {
   "cell_type": "code",
   "execution_count": 15,
   "id": "792d69d5",
   "metadata": {},
   "outputs": [],
   "source": [
    "#Add Solution Printer\n",
    "def print_solution(data, manager, routing, solution):\n",
    "    \"\"\"Prints solution on console.\"\"\"\n",
    "    print(f'Objective: {solution.ObjectiveValue()}')\n",
    "    max_route_distance = 0\n",
    "    for vehicle_id in range(data['num_vehicles']):\n",
    "        index = routing.Start(vehicle_id)\n",
    "        plan_output = 'Route for vehicle {}:\\n'.format(vehicle_id)\n",
    "        route_distance = 0\n",
    "        while not routing.IsEnd(index):\n",
    "            plan_output += ' {} -> '.format(manager.IndexToNode(index))\n",
    "            previous_index = index\n",
    "            index = solution.Value(routing.NextVar(index))\n",
    "            route_distance += routing.GetArcCostForVehicle(\n",
    "                previous_index, index, vehicle_id)\n",
    "        plan_output += '{}\\n'.format(manager.IndexToNode(index))\n",
    "        plan_output += 'Distance of the route: {}m\\n'.format(route_distance)\n",
    "        print(plan_output)\n",
    "        max_route_distance = max(route_distance, max_route_distance)\n",
    "    print('Maximum of the route distances: {}m'.format(max_route_distance))"
   ]
  },
  {
   "cell_type": "code",
   "execution_count": 16,
   "id": "e8d0d750",
   "metadata": {},
   "outputs": [],
   "source": [
    "#search Parameter\n",
    "search_parameters = pywrapcp.DefaultRoutingSearchParameters()\n",
    "search_parameters.first_solution_strategy = (\n",
    "routing_enums_pb2.FirstSolutionStrategy.AUTOMATIC)"
   ]
  },
  {
   "cell_type": "code",
   "execution_count": 17,
   "id": "71eb9548",
   "metadata": {},
   "outputs": [
    {
     "name": "stdout",
     "output_type": "stream",
     "text": [
      "Objective: 75890\n",
      "Route for vehicle 0:\n",
      " 0 ->  4 -> 0\n",
      "Distance of the route: 380m\n",
      "\n",
      "Route for vehicle 1:\n",
      " 0 ->  1 -> 0\n",
      "Distance of the route: 580m\n",
      "\n",
      "Route for vehicle 2:\n",
      " 0 ->  7 ->  5 ->  3 -> 0\n",
      "Distance of the route: 695m\n",
      "\n",
      "Route for vehicle 3:\n",
      " 0 ->  2 ->  6 -> 0\n",
      "Distance of the route: 735m\n",
      "\n",
      "Maximum of the route distances: 735m\n"
     ]
    }
   ],
   "source": [
    "#print Solution\n",
    "solution = routing.SolveWithParameters(search_parameters)\n",
    "if solution : \n",
    "    print_solution(data, manager, routing, solution)"
   ]
  },
  {
   "cell_type": "markdown",
   "id": "451d789d",
   "metadata": {},
   "source": [
    "# ------------------------------------------------------------------"
   ]
  },
  {
   "cell_type": "markdown",
   "id": "0a6b8944",
   "metadata": {},
   "source": [
    "Setting Starts and Ends Location"
   ]
  },
  {
   "cell_type": "code",
   "execution_count": 18,
   "id": "4d21971d",
   "metadata": {},
   "outputs": [],
   "source": [
    "from ortools.constraint_solver import routing_enums_pb2\n",
    "from ortools.constraint_solver import pywrapcp"
   ]
  },
  {
   "cell_type": "code",
   "execution_count": 19,
   "id": "8f149927",
   "metadata": {},
   "outputs": [],
   "source": [
    "def create_data_model():\n",
    "    data = {}\n",
    "    data['distance_matrix'] = [\n",
    "        [\n",
    "            0, 548, 776, 696, 582, 274, 502, 194, 308, 194, 536, 502, 388, 354,\n",
    "            468, 776, 662\n",
    "        ],\n",
    "        [\n",
    "            548, 0, 684, 308, 194, 502, 730, 354, 696, 742, 1084, 594, 480, 674,\n",
    "            1016, 868, 1210\n",
    "        ],\n",
    "        [\n",
    "            776, 684, 0, 992, 878, 502, 274, 810, 468, 742, 400, 1278, 1164,\n",
    "            1130, 788, 1552, 754\n",
    "        ],\n",
    "        [\n",
    "            696, 308, 992, 0, 114, 650, 878, 502, 844, 890, 1232, 514, 628, 822,\n",
    "            1164, 560, 1358\n",
    "        ],\n",
    "        [\n",
    "            582, 194, 878, 114, 0, 536, 764, 388, 730, 776, 1118, 400, 514, 708,\n",
    "            1050, 674, 1244\n",
    "        ],\n",
    "        [\n",
    "            274, 502, 502, 650, 536, 0, 228, 308, 194, 240, 582, 776, 662, 628,\n",
    "            514, 1050, 708\n",
    "        ],\n",
    "        [\n",
    "            502, 730, 274, 878, 764, 228, 0, 536, 194, 468, 354, 1004, 890, 856,\n",
    "            514, 1278, 480\n",
    "        ],\n",
    "        [\n",
    "            194, 354, 810, 502, 388, 308, 536, 0, 342, 388, 730, 468, 354, 320,\n",
    "            662, 742, 856\n",
    "        ],\n",
    "        [\n",
    "            308, 696, 468, 844, 730, 194, 194, 342, 0, 274, 388, 810, 696, 662,\n",
    "            320, 1084, 514\n",
    "        ],\n",
    "        [\n",
    "            194, 742, 742, 890, 776, 240, 468, 388, 274, 0, 342, 536, 422, 388,\n",
    "            274, 810, 468\n",
    "        ],\n",
    "        [\n",
    "            536, 1084, 400, 1232, 1118, 582, 354, 730, 388, 342, 0, 878, 764,\n",
    "            730, 388, 1152, 354\n",
    "        ],\n",
    "        [\n",
    "            502, 594, 1278, 514, 400, 776, 1004, 468, 810, 536, 878, 0, 114,\n",
    "            308, 650, 274, 844\n",
    "        ],\n",
    "        [\n",
    "            388, 480, 1164, 628, 514, 662, 890, 354, 696, 422, 764, 114, 0, 194,\n",
    "            536, 388, 730\n",
    "        ],\n",
    "        [\n",
    "            354, 674, 1130, 822, 708, 628, 856, 320, 662, 388, 730, 308, 194, 0,\n",
    "            342, 422, 536\n",
    "        ],\n",
    "        [\n",
    "            468, 1016, 788, 1164, 1050, 514, 514, 662, 320, 274, 388, 650, 536,\n",
    "            342, 0, 764, 194\n",
    "        ],\n",
    "        [\n",
    "            776, 868, 1552, 560, 674, 1050, 1278, 742, 1084, 810, 1152, 274,\n",
    "            388, 422, 764, 0, 798\n",
    "        ],\n",
    "        [\n",
    "            662, 1210, 754, 1358, 1244, 708, 480, 856, 514, 468, 354, 844, 730,\n",
    "            536, 194, 798, 0\n",
    "        ],\n",
    "    ]\n",
    "    data['num_vehicles'] = 4\n",
    "    data['starts'] = [1, 2, 15, 16]\n",
    "    data['ends'] = [0, 0, 0, 0]\n",
    "    return data"
   ]
  },
  {
   "cell_type": "code",
   "execution_count": 20,
   "id": "60ab7998",
   "metadata": {},
   "outputs": [],
   "source": [
    "def print_solution(data, manager, routing, solution):\n",
    "    \"\"\"Prints solution on console.\"\"\"\n",
    "    print(f'Objective: {solution.ObjectiveValue()}')\n",
    "    max_route_distance = 0\n",
    "    for vehicle_id in range(data['num_vehicles']):\n",
    "        index = routing.Start(vehicle_id)\n",
    "        plan_output = 'Route for vehicle {}:\\n'.format(vehicle_id)\n",
    "        route_distance = 0\n",
    "        while not routing.IsEnd(index):\n",
    "            plan_output += ' {} -> '.format(manager.IndexToNode(index))\n",
    "            previous_index = index\n",
    "            index = solution.Value(routing.NextVar(index))\n",
    "            route_distance += routing.GetArcCostForVehicle(\n",
    "                previous_index, index, vehicle_id)\n",
    "        plan_output += '{}\\n'.format(manager.IndexToNode(index))\n",
    "        plan_output += 'Distance of the route: {}m\\n'.format(route_distance)\n",
    "        print(plan_output)\n",
    "        max_route_distance = max(route_distance, max_route_distance)\n",
    "    print('Maximum of the route distances: {}m'.format(max_route_distance))"
   ]
  },
  {
   "cell_type": "code",
   "execution_count": 21,
   "id": "6c24a8bc",
   "metadata": {},
   "outputs": [],
   "source": [
    "data = create_data_model()\n",
    "\n",
    "    # Create the routing index manager.\n",
    "manager = pywrapcp.RoutingIndexManager(len(data['distance_matrix']),\n",
    "                                           data['num_vehicles'], data['starts'],\n",
    "                                           data['ends'])\n",
    "\n",
    "    # Create Routing Model.\n",
    "routing = pywrapcp.RoutingModel(manager)"
   ]
  },
  {
   "cell_type": "code",
   "execution_count": 22,
   "id": "f5802920",
   "metadata": {},
   "outputs": [],
   "source": [
    " def distance_callback(from_index, to_index):\n",
    "    \"\"\"Returns the distance between the two nodes.\"\"\"\n",
    "        # Convert from routing variable Index to distance matrix NodeIndex.\n",
    "    from_node = manager.IndexToNode(from_index)\n",
    "    to_node = manager.IndexToNode(to_index)\n",
    "    return data['distance_matrix'][from_node][to_node]\n",
    "\n",
    "transit_callback_index = routing.RegisterTransitCallback(distance_callback)"
   ]
  },
  {
   "cell_type": "code",
   "execution_count": 23,
   "id": "507ec11e",
   "metadata": {},
   "outputs": [],
   "source": [
    " # Define cost of each arc.\n",
    "routing.SetArcCostEvaluatorOfAllVehicles(transit_callback_index)"
   ]
  },
  {
   "cell_type": "code",
   "execution_count": 24,
   "id": "06fe8138",
   "metadata": {},
   "outputs": [],
   "source": [
    "# Add Distance constraint.\n",
    "dimension_name = 'Distance'\n",
    "routing.AddDimension(\n",
    "transit_callback_index,\n",
    "0,  # no slack\n",
    "2000,  # vehicle maximum travel distance\n",
    "True,  # start cumul to zero\n",
    "dimension_name)\n",
    "distance_dimension = routing.GetDimensionOrDie(dimension_name)\n",
    "distance_dimension.SetGlobalSpanCostCoefficient(100)"
   ]
  },
  {
   "cell_type": "code",
   "execution_count": 25,
   "id": "11704faf",
   "metadata": {},
   "outputs": [],
   "source": [
    " # Setting first solution heuristic.\n",
    "search_parameters = pywrapcp.DefaultRoutingSearchParameters()\n",
    "search_parameters.first_solution_strategy = (\n",
    "routing_enums_pb2.FirstSolutionStrategy.PATH_CHEAPEST_ARC)"
   ]
  },
  {
   "cell_type": "code",
   "execution_count": 26,
   "id": "e4f08481",
   "metadata": {},
   "outputs": [],
   "source": [
    " # Solve the problem.\n",
    "solution = routing.SolveWithParameters(search_parameters)\n"
   ]
  },
  {
   "cell_type": "code",
   "execution_count": 27,
   "id": "ac1815a7",
   "metadata": {},
   "outputs": [
    {
     "name": "stdout",
     "output_type": "stream",
     "text": [
      "Objective: 115794\n",
      "Route for vehicle 0:\n",
      " 1 ->  4 ->  3 ->  7 -> 0\n",
      "Distance of the route: 1004m\n",
      "\n",
      "Route for vehicle 1:\n",
      " 2 ->  6 ->  8 ->  5 -> 0\n",
      "Distance of the route: 936m\n",
      "\n",
      "Route for vehicle 2:\n",
      " 15 ->  11 ->  12 ->  13 -> 0\n",
      "Distance of the route: 936m\n",
      "\n",
      "Route for vehicle 3:\n",
      " 16 ->  14 ->  10 ->  9 -> 0\n",
      "Distance of the route: 1118m\n",
      "\n",
      "Maximum of the route distances: 1118m\n"
     ]
    }
   ],
   "source": [
    " if solution:\n",
    "    print_solution(data, manager, routing, solution)"
   ]
  },
  {
   "cell_type": "code",
   "execution_count": null,
   "id": "29dfd78b",
   "metadata": {},
   "outputs": [],
   "source": []
  }
 ],
 "metadata": {
  "kernelspec": {
   "display_name": "Python 3 (ipykernel)",
   "language": "python",
   "name": "python3"
  },
  "language_info": {
   "codemirror_mode": {
    "name": "ipython",
    "version": 3
   },
   "file_extension": ".py",
   "mimetype": "text/x-python",
   "name": "python",
   "nbconvert_exporter": "python",
   "pygments_lexer": "ipython3",
   "version": "3.9.16"
  }
 },
 "nbformat": 4,
 "nbformat_minor": 5
}
