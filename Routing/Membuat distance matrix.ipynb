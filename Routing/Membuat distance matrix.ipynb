{
 "cells": [
  {
   "cell_type": "markdown",
   "id": "6fe2723f",
   "metadata": {},
   "source": [
    "# Google Distance Matrix API\n"
   ]
  },
  {
   "cell_type": "code",
   "execution_count": 2,
   "id": "a668ed27",
   "metadata": {},
   "outputs": [],
   "source": [
    "import requests\n",
    "import json\n",
    "import urllib"
   ]
  },
  {
   "cell_type": "code",
   "execution_count": 3,
   "id": "f153b32d",
   "metadata": {},
   "outputs": [],
   "source": [
    "def create_data():\n",
    "  \"\"\"Creates the data.\"\"\"\n",
    "  data = {}\n",
    "  data['API_key'] = 'YOUR_API_KEY'\n",
    "  data['addresses'] = ['3610+Hacks+Cross+Rd+Memphis+TN', # depot\n",
    "                       '1921+Elvis+Presley+Blvd+Memphis+TN',\n",
    "                       '149+Union+Avenue+Memphis+TN',\n",
    "                       '1034+Audubon+Drive+Memphis+TN',\n",
    "                       '1532+Madison+Ave+Memphis+TN',\n",
    "                       '706+Union+Ave+Memphis+TN',\n",
    "                       '3641+Central+Ave+Memphis+TN',\n",
    "                       '926+E+McLemore+Ave+Memphis+TN',\n",
    "                       '4339+Park+Ave+Memphis+TN',\n",
    "                       '600+Goodwyn+St+Memphis+TN',\n",
    "                       '2000+North+Pkwy+Memphis+TN',\n",
    "                       '262+Danny+Thomas+Pl+Memphis+TN',\n",
    "                       '125+N+Front+St+Memphis+TN',\n",
    "                       '5959+Park+Ave+Memphis+TN',\n",
    "                       '814+Scott+St+Memphis+TN',\n",
    "                       '1005+Tillman+St+Memphis+TN'\n",
    "                      ]\n",
    "  return data"
   ]
  },
  {
   "cell_type": "code",
   "execution_count": 4,
   "id": "64a0d681",
   "metadata": {},
   "outputs": [],
   "source": [
    "def create_distance_matrix(data):\n",
    "  addresses = data[\"addresses\"]\n",
    "  API_key = data[\"API_key\"]\n",
    "  # Distance Matrix API only accepts 100 elements per request, so get rows in multiple requests.\n",
    "  max_elements = 100\n",
    "  num_addresses = len(addresses) # 16 in this example.\n",
    "  # Maximum number of rows that can be computed per request (6 in this example).\n",
    "  max_rows = max_elements // num_addresses\n",
    "  # num_addresses = q * max_rows + r (q = 2 and r = 4 in this example).\n",
    "  q, r = divmod(num_addresses, max_rows)\n",
    "  dest_addresses = addresses\n",
    "  distance_matrix = []\n",
    "  # Send q requests, returning max_rows rows per request.\n",
    "  for i in range(q):\n",
    "    origin_addresses = addresses[i * max_rows: (i + 1) * max_rows]\n",
    "    response = send_request(origin_addresses, dest_addresses, API_key)\n",
    "    distance_matrix += build_distance_matrix(response)\n",
    "\n",
    "  # Get the remaining remaining r rows, if necessary.\n",
    "  if r > 0:\n",
    "    origin_addresses = addresses[q * max_rows: q * max_rows + r]\n",
    "    response = send_request(origin_addresses, dest_addresses, API_key)\n",
    "    distance_matrix += build_distance_matrix(response)\n",
    "  return distance_matrix"
   ]
  },
  {
   "cell_type": "code",
   "execution_count": 5,
   "id": "1e2e38ac",
   "metadata": {},
   "outputs": [],
   "source": [
    "def send_request(origin_addresses, dest_addresses, API_key):\n",
    "  \"\"\" Build and send request for the given origin and destination addresses.\"\"\"\n",
    "  def build_address_str(addresses):\n",
    "    # Build a pipe-separated string of addresses\n",
    "    address_str = ''\n",
    "    for i in range(len(addresses) - 1):\n",
    "      address_str += addresses[i] + '|'\n",
    "    address_str += addresses[-1]\n",
    "    return address_str"
   ]
  },
  {
   "cell_type": "code",
   "execution_count": 6,
   "id": "c051a095",
   "metadata": {},
   "outputs": [
    {
     "ename": "NameError",
     "evalue": "name 'build_address_str' is not defined",
     "output_type": "error",
     "traceback": [
      "\u001b[1;31m---------------------------------------------------------------------------\u001b[0m",
      "\u001b[1;31mNameError\u001b[0m                                 Traceback (most recent call last)",
      "\u001b[1;32m~\\AppData\\Local\\Temp/ipykernel_38076/4074853752.py\u001b[0m in \u001b[0;36m<module>\u001b[1;34m\u001b[0m\n\u001b[0;32m      1\u001b[0m \u001b[0mrequest\u001b[0m \u001b[1;33m=\u001b[0m \u001b[1;34m'https://maps.googleapis.com/maps/api/distancematrix/json?units=imperial'\u001b[0m\u001b[1;33m\u001b[0m\u001b[1;33m\u001b[0m\u001b[0m\n\u001b[1;32m----> 2\u001b[1;33m \u001b[0morigin_address_str\u001b[0m \u001b[1;33m=\u001b[0m \u001b[0mbuild_address_str\u001b[0m\u001b[1;33m(\u001b[0m\u001b[0morigin_addresses\u001b[0m\u001b[1;33m)\u001b[0m\u001b[1;33m\u001b[0m\u001b[1;33m\u001b[0m\u001b[0m\n\u001b[0m\u001b[0;32m      3\u001b[0m \u001b[0mdest_address_str\u001b[0m \u001b[1;33m=\u001b[0m \u001b[0mbuild_address_str\u001b[0m\u001b[1;33m(\u001b[0m\u001b[0mdest_addresses\u001b[0m\u001b[1;33m)\u001b[0m\u001b[1;33m\u001b[0m\u001b[1;33m\u001b[0m\u001b[0m\n\u001b[0;32m      4\u001b[0m \u001b[0mrequest\u001b[0m \u001b[1;33m=\u001b[0m \u001b[0mrequest\u001b[0m \u001b[1;33m+\u001b[0m \u001b[1;34m'&origins='\u001b[0m \u001b[1;33m+\u001b[0m \u001b[0morigin_address_str\u001b[0m \u001b[1;33m+\u001b[0m \u001b[1;34m'&destinations='\u001b[0m \u001b[1;33m+\u001b[0m\u001b[0;31m \u001b[0m\u001b[0;31m\\\u001b[0m\u001b[1;33m\u001b[0m\u001b[1;33m\u001b[0m\u001b[0m\n\u001b[0;32m      5\u001b[0m                      \u001b[0mdest_address_str\u001b[0m \u001b[1;33m+\u001b[0m \u001b[1;34m'&key='\u001b[0m \u001b[1;33m+\u001b[0m \u001b[0mAPI_key\u001b[0m\u001b[1;33m\u001b[0m\u001b[1;33m\u001b[0m\u001b[0m\n",
      "\u001b[1;31mNameError\u001b[0m: name 'build_address_str' is not defined"
     ]
    }
   ],
   "source": [
    "  request = 'https://maps.googleapis.com/maps/api/distancematrix/json?units=imperial'\n",
    "  origin_address_str = build_address_str(origin_addresses)\n",
    "  dest_address_str = build_address_str(dest_addresses)\n",
    "  request = request + '&origins=' + origin_address_str + '&destinations=' + \\\n",
    "                       dest_address_str + '&key=' + API_key\n",
    "  jsonResult = urllib.urlopen(request).read()\n",
    "  response = json.loads(jsonResult)\n",
    "  return response"
   ]
  },
  {
   "cell_type": "markdown",
   "id": "36e8f43a",
   "metadata": {},
   "source": [
    "# Using Function (Euclidean Formula)"
   ]
  },
  {
   "cell_type": "code",
   "execution_count": 38,
   "id": "f035a4d7",
   "metadata": {},
   "outputs": [],
   "source": [
    "from ortools.constraint_solver import routing_enums_pb2\n",
    "from ortools.constraint_solver import pywrapcp\n",
    "import math"
   ]
  },
  {
   "cell_type": "code",
   "execution_count": 39,
   "id": "d3d3a4e9",
   "metadata": {},
   "outputs": [],
   "source": [
    "def create_data_model():\n",
    "    \"\"\"Stores the data for the problem.\"\"\"\n",
    "    data = {}\n",
    "    data['locations'] = [\n",
    "        (288, 149), (288, 129), (270, 133), (256, 141), (256, 157), (246, 157),\n",
    "        (236, 169), (228, 169), (228, 161), (220, 169), (212, 169), (204, 169),\n",
    "        (196, 169), (188, 169), (196, 161), (188, 145), (172, 145), (164, 145),\n",
    "        (156, 145), (148, 145), (140, 145), (148, 169), (164, 169), (172, 169),\n",
    "        (156, 169), (140, 169), (132, 169), (124, 169), (116, 161), (104, 153),\n",
    "        (104, 161), (104, 169), (90, 165), (80, 157), (64, 157), (64, 165),\n",
    "        (56, 169), (56, 161), (56, 153), (56, 145), (56, 137), (56, 129),\n",
    "        (56, 121), (40, 121), (40, 129), (40, 137), (40, 145), (40, 153),\n",
    "        (40, 161), (40, 169), (32, 169), (32, 161), (32, 153), (32, 145),\n",
    "        (32, 137), (32, 129), (32, 121), (32, 113), (40, 113), (56, 113),\n",
    "        (56, 105), (48, 99), (40, 99), (32, 97), (32, 89), (24, 89),\n",
    "        (16, 97), (16, 109), (8, 109), (8, 97), (8, 89), (8, 81),\n",
    "        (8, 73), (8, 65), (8, 57), (16, 57), (8, 49), (8, 41),\n",
    "        (24, 45), (32, 41), (32, 49), (32, 57), (32, 65), (32, 73),\n",
    "        (32, 81), (40, 83), (40, 73), (40, 63), (40, 51), (44, 43),\n",
    "        (44, 35), (44, 27), (32, 25), (24, 25), (16, 25), (16, 17),\n",
    "        (24, 17), (32, 17), (44, 11), (56, 9), (56, 17), (56, 25),\n",
    "        (56, 33), (56, 41), (64, 41), (72, 41), (72, 49), (56, 49),\n",
    "        (48, 51), (56, 57), (56, 65), (48, 63), (48, 73), (56, 73),\n",
    "        (56, 81), (48, 83), (56, 89), (56, 97), (104, 97), (104, 105),\n",
    "        (104, 113), (104, 121), (104, 129), (104, 137), (104, 145), (116, 145),\n",
    "        (124, 145), (132, 145), (132, 137), (140, 137), (148, 137), (156, 137),\n",
    "        (164, 137), (172, 125), (172, 117), (172, 109), (172, 101), (172, 93),\n",
    "        (172, 85), (180, 85), (180, 77), (180, 69), (180, 61), (180, 53),\n",
    "        (172, 53), (172, 61), (172, 69), (172, 77), (164, 81), (148, 85),\n",
    "        (124, 85), (124, 93), (124, 109), (124, 125), (124, 117), (124, 101),\n",
    "        (104, 89), (104, 81), (104, 73), (104, 65), (104, 49), (104, 41),\n",
    "        (104, 33), (104, 25), (104, 17), (92, 9), (80, 9), (72, 9),\n",
    "        (64, 21), (72, 25), (80, 25), (80, 25), (80, 41), (88, 49),\n",
    "        (104, 57), (124, 69), (124, 77), (132, 81), (140, 65), (132, 61),\n",
    "        (124, 61), (124, 53), (124, 45), (124, 37), (124, 29), (132, 21),\n",
    "        (124, 21), (120, 9), (128, 9), (136, 9), (148, 9), (162, 9),\n",
    "        (156, 25), (172, 21), (180, 21), (180, 29), (172, 29), (172, 37),\n",
    "        (172, 45), (180, 45), (180, 37), (188, 41), (196, 49), (204, 57),\n",
    "        (212, 65), (220, 73), (228, 69), (228, 77), (236, 77), (236, 69),\n",
    "        (236, 61), (228, 61), (228, 53), (236, 53), (236, 45), (228, 45),\n",
    "        (228, 37), (236, 37), (236, 29), (228, 29), (228, 21), (236, 21),\n",
    "        (252, 21), (260, 29), (260, 37), (260, 45), (260, 53), (260, 61),\n",
    "        (260, 69), (260, 77), (276, 77), (276, 69), (276, 61), (276, 53),\n",
    "        (284, 53), (284, 61), (284, 69), (284, 77), (284, 85), (284, 93),\n",
    "        (284, 101), (288, 109), (280, 109), (276, 101), (276, 93), (276, 85),\n",
    "        (268, 97), (260, 109), (252, 101), (260, 93), (260, 85), (236, 85),\n",
    "        (228, 85), (228, 93), (236, 93), (236, 101), (228, 101), (228, 109),\n",
    "        (228, 117), (228, 125), (220, 125), (212, 117), (204, 109), (196, 101),\n",
    "        (188, 93), (180, 93), (180, 101), (180, 109), (180, 117), (180, 125),\n",
    "        (196, 145), (204, 145), (212, 145), (220, 145), (228, 145), (236, 145),\n",
    "        (246, 141), (252, 125), (260, 129), (280, 133)\n",
    "    ]  \n",
    "    data['num_vehicles'] = 1\n",
    "    data['depot'] = 0\n",
    "    return data"
   ]
  },
  {
   "cell_type": "code",
   "execution_count": 40,
   "id": "5eac52bb",
   "metadata": {},
   "outputs": [],
   "source": [
    "def compute_euclidean_distance_matrix(locations):\n",
    "    \"\"\"Creates callback to return distance between points.\"\"\"\n",
    "    distances = {}\n",
    "    for from_counter, from_node in enumerate(locations):\n",
    "        distances[from_counter] = {}\n",
    "        for to_counter, to_node in enumerate(locations):\n",
    "            if from_counter == to_counter:\n",
    "                distances[from_counter][to_counter] = 0\n",
    "            else:\n",
    "                # Euclidean distance\n",
    "                distances[from_counter][to_counter] = (int(\n",
    "                    math.hypot((from_node[0] - to_node[0]),\n",
    "                               (from_node[1] - to_node[1]))))\n",
    "    return distances\n",
    "# distance_matrix = compute_euclidean_distance_matrix(data['locations'])"
   ]
  },
  {
   "cell_type": "code",
   "execution_count": 41,
   "id": "66f85385",
   "metadata": {},
   "outputs": [],
   "source": [
    "distance_matrix = compute_euclidean_distance_matrix(data['locations'])"
   ]
  },
  {
   "cell_type": "code",
   "execution_count": 42,
   "id": "26a4ad62",
   "metadata": {},
   "outputs": [],
   "source": [
    "#Create data model\n",
    "data = create_data_model()\n",
    "manager = pywrapcp.RoutingIndexManager(len(data['locations']), data['num_vehicles'], data['depot'])\n",
    "routing = pywrapcp.RoutingModel(manager)"
   ]
  },
  {
   "cell_type": "code",
   "execution_count": 43,
   "id": "cc307032",
   "metadata": {},
   "outputs": [],
   "source": [
    "#Set distance callback\n",
    "def distance_callback(from_index, to_index):\n",
    "    \"\"\"Returns the distance between the two nodes.\"\"\"\n",
    "    # Convert from routing variable Index to distance matrix NodeIndex.\n",
    "    from_node = manager.IndexToNode(from_index)\n",
    "    to_node = manager.IndexToNode(to_index)\n",
    "    return distance_matrix[from_node][to_node]\n",
    "\n",
    "transit_callback_index = routing.RegisterTransitCallback(distance_callback)"
   ]
  },
  {
   "cell_type": "code",
   "execution_count": 47,
   "id": "c10e0611",
   "metadata": {},
   "outputs": [],
   "source": [
    "#set cost travel\n",
    "routing.SetArcCostEvaluatorOfAllVehicles(transit_callback_index)"
   ]
  },
  {
   "cell_type": "code",
   "execution_count": 48,
   "id": "cbd3d517",
   "metadata": {},
   "outputs": [],
   "source": [
    "#search parameters\n",
    "search_parameters = pywrapcp.DefaultRoutingSearchParameters()\n",
    "search_parameters.first_solution_strategy = (\n",
    "routing_enums_pb2.FirstSolutionStrategy.PATH_CHEAPEST_ARC)"
   ]
  },
  {
   "cell_type": "code",
   "execution_count": 49,
   "id": "f228fe9d",
   "metadata": {},
   "outputs": [],
   "source": [
    "#add print solution\n",
    "def print_solution(manager, routing, solution):\n",
    "    \"\"\"Prints solution on console.\"\"\"\n",
    "    print('Objective: {}'.format(solution.ObjectiveValue()))\n",
    "    index = routing.Start(0)\n",
    "    plan_output = 'Route:\\n'\n",
    "    route_distance = 0\n",
    "    while not routing.IsEnd(index):\n",
    "        plan_output += ' {} ->'.format(manager.IndexToNode(index))\n",
    "        previous_index = index\n",
    "        index = solution.Value(routing.NextVar(index))\n",
    "        route_distance += routing.GetArcCostForVehicle(previous_index, index, 0)\n",
    "    plan_output += ' {}\\n'.format(manager.IndexToNode(index))\n",
    "    print(plan_output)\n",
    "    plan_output += 'Objective: {}m\\n'.format(route_distance)"
   ]
  },
  {
   "cell_type": "code",
   "execution_count": 52,
   "id": "9d0691fd",
   "metadata": {},
   "outputs": [
    {
     "name": "stdout",
     "output_type": "stream",
     "text": [
      "Objective: 2790\n",
      "Route:\n",
      " 0 -> 1 -> 279 -> 2 -> 278 -> 277 -> 248 -> 247 -> 243 -> 242 -> 241 -> 240 -> 239 -> 238 -> 245 -> 244 -> 246 -> 249 -> 250 -> 229 -> 228 -> 231 -> 230 -> 237 -> 236 -> 235 -> 234 -> 233 -> 232 -> 227 -> 226 -> 225 -> 224 -> 223 -> 222 -> 218 -> 221 -> 220 -> 219 -> 202 -> 203 -> 204 -> 205 -> 207 -> 206 -> 211 -> 212 -> 215 -> 216 -> 217 -> 214 -> 213 -> 210 -> 209 -> 208 -> 251 -> 254 -> 255 -> 257 -> 256 -> 253 -> 252 -> 139 -> 140 -> 141 -> 142 -> 143 -> 199 -> 201 -> 200 -> 195 -> 194 -> 193 -> 191 -> 190 -> 189 -> 188 -> 187 -> 163 -> 164 -> 165 -> 166 -> 167 -> 168 -> 169 -> 171 -> 170 -> 172 -> 105 -> 106 -> 104 -> 103 -> 107 -> 109 -> 110 -> 113 -> 114 -> 116 -> 117 -> 61 -> 62 -> 63 -> 65 -> 64 -> 84 -> 85 -> 115 -> 112 -> 86 -> 83 -> 82 -> 87 -> 111 -> 108 -> 89 -> 90 -> 91 -> 102 -> 101 -> 100 -> 99 -> 98 -> 97 -> 96 -> 95 -> 94 -> 93 -> 92 -> 79 -> 88 -> 81 -> 80 -> 78 -> 77 -> 76 -> 74 -> 75 -> 73 -> 72 -> 71 -> 70 -> 69 -> 66 -> 68 -> 67 -> 57 -> 56 -> 55 -> 54 -> 53 -> 52 -> 51 -> 50 -> 49 -> 48 -> 47 -> 46 -> 45 -> 44 -> 43 -> 58 -> 60 -> 59 -> 42 -> 41 -> 40 -> 39 -> 38 -> 37 -> 36 -> 35 -> 34 -> 33 -> 32 -> 31 -> 30 -> 29 -> 124 -> 123 -> 122 -> 121 -> 120 -> 119 -> 118 -> 156 -> 157 -> 158 -> 173 -> 162 -> 161 -> 160 -> 174 -> 159 -> 150 -> 151 -> 155 -> 152 -> 154 -> 153 -> 128 -> 129 -> 130 -> 131 -> 18 -> 19 -> 20 -> 127 -> 126 -> 125 -> 28 -> 27 -> 26 -> 25 -> 21 -> 24 -> 22 -> 23 -> 13 -> 12 -> 14 -> 11 -> 10 -> 9 -> 7 -> 8 -> 6 -> 5 -> 275 -> 274 -> 273 -> 272 -> 271 -> 270 -> 15 -> 16 -> 17 -> 132 -> 149 -> 177 -> 176 -> 175 -> 178 -> 179 -> 180 -> 181 -> 182 -> 183 -> 184 -> 186 -> 185 -> 192 -> 196 -> 197 -> 198 -> 144 -> 145 -> 146 -> 147 -> 148 -> 138 -> 137 -> 136 -> 135 -> 134 -> 133 -> 269 -> 268 -> 267 -> 266 -> 265 -> 264 -> 263 -> 262 -> 261 -> 260 -> 258 -> 259 -> 276 -> 3 -> 4 -> 0\n",
      "\n"
     ]
    }
   ],
   "source": [
    "#print solution\n",
    "solution = routing.SolveWithParameters(search_parameters)\n",
    "if solution : \n",
    "    print_solution(manager, routing, solution)"
   ]
  },
  {
   "cell_type": "markdown",
   "id": "23570ba5",
   "metadata": {},
   "source": [
    "# Using Function (Manhattan Formula)"
   ]
  },
  {
   "cell_type": "code",
   "execution_count": null,
   "id": "7aa4f13e",
   "metadata": {},
   "outputs": [],
   "source": []
  }
 ],
 "metadata": {
  "kernelspec": {
   "display_name": "Python 3 (ipykernel)",
   "language": "python",
   "name": "python3"
  },
  "language_info": {
   "codemirror_mode": {
    "name": "ipython",
    "version": 3
   },
   "file_extension": ".py",
   "mimetype": "text/x-python",
   "name": "python",
   "nbconvert_exporter": "python",
   "pygments_lexer": "ipython3",
   "version": "3.9.7"
  }
 },
 "nbformat": 4,
 "nbformat_minor": 5
}
